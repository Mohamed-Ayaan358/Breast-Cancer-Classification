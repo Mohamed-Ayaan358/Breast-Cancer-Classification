{
 "cells": [
  {
   "cell_type": "code",
   "execution_count": 6,
   "metadata": {},
   "outputs": [],
   "source": [
    "import os\n",
    "from glob import glob\n",
    "import fnmatch\n",
    "import shutil"
   ]
  },
  {
   "cell_type": "code",
   "execution_count": 7,
   "metadata": {},
   "outputs": [],
   "source": [
    "patch_fn = glob(\"../Breast-Cancer-Detection/IDC_regular_ps50_idx5/**/*.png\", recursive = True)"
   ]
  },
  {
   "cell_type": "code",
   "execution_count": 8,
   "metadata": {
    "scrolled": false
   },
   "outputs": [
    {
     "name": "stdout",
     "output_type": "stream",
     "text": [
      "../Breast-Cancer-Detection/IDC_regular_ps50_idx5/9036/0/9036_idx5_x1051_y2401_class0.png\n",
      "../Breast-Cancer-Detection/IDC_regular_ps50_idx5/9036/0/9036_idx5_x2951_y951_class0.png\n",
      "../Breast-Cancer-Detection/IDC_regular_ps50_idx5/9036/0/9036_idx5_x3001_y1451_class0.png\n",
      "../Breast-Cancer-Detection/IDC_regular_ps50_idx5/9036/0/9036_idx5_x3051_y801_class0.png\n",
      "../Breast-Cancer-Detection/IDC_regular_ps50_idx5/9036/0/9036_idx5_x951_y1901_class0.png\n",
      "../Breast-Cancer-Detection/IDC_regular_ps50_idx5/9036/0/9036_idx5_x2251_y751_class0.png\n",
      "../Breast-Cancer-Detection/IDC_regular_ps50_idx5/9036/0/9036_idx5_x1901_y401_class0.png\n",
      "../Breast-Cancer-Detection/IDC_regular_ps50_idx5/9036/0/9036_idx5_x3201_y1101_class0.png\n",
      "../Breast-Cancer-Detection/IDC_regular_ps50_idx5/9036/0/9036_idx5_x3351_y1251_class0.png\n",
      "../Breast-Cancer-Detection/IDC_regular_ps50_idx5/9036/0/9036_idx5_x2051_y2551_class0.png\n"
     ]
    }
   ],
   "source": [
    "for file in patch_fn[0:10]:\n",
    "    print(file)"
   ]
  },
  {
   "cell_type": "code",
   "execution_count": 9,
   "metadata": {},
   "outputs": [],
   "source": [
    "zero = fnmatch.filter(patch_fn, '*class0.png')\n",
    "\n",
    "one = fnmatch.filter(patch_fn, '*class1.png')"
   ]
  },
  {
   "cell_type": "code",
   "execution_count": 10,
   "metadata": {
    "scrolled": false
   },
   "outputs": [
    {
     "name": "stdout",
     "output_type": "stream",
     "text": [
      "['../Breast-Cancer-Detection/IDC_regular_ps50_idx5/9036/0/9036_idx5_x1051_y2401_class0.png', '../Breast-Cancer-Detection/IDC_regular_ps50_idx5/9036/0/9036_idx5_x2951_y951_class0.png', '../Breast-Cancer-Detection/IDC_regular_ps50_idx5/9036/0/9036_idx5_x3001_y1451_class0.png']\n"
     ]
    }
   ],
   "source": [
    "print(zero[0:3])"
   ]
  },
  {
   "cell_type": "code",
   "execution_count": 11,
   "metadata": {},
   "outputs": [
    {
     "name": "stdout",
     "output_type": "stream",
     "text": [
      "['../Breast-Cancer-Detection/IDC_regular_ps50_idx5/9036/1/9036_idx5_x1851_y1351_class1.png', '../Breast-Cancer-Detection/IDC_regular_ps50_idx5/9036/1/9036_idx5_x1851_y1451_class1.png', '../Breast-Cancer-Detection/IDC_regular_ps50_idx5/9036/1/9036_idx5_x1751_y1601_class1.png']\n"
     ]
    }
   ],
   "source": [
    "print(one[0:3])"
   ]
  },
  {
   "cell_type": "code",
   "execution_count": 12,
   "metadata": {},
   "outputs": [
    {
     "name": "stdout",
     "output_type": "stream",
     "text": [
      "<class 'list'>\n",
      "<class 'list'>\n"
     ]
    }
   ],
   "source": [
    "print(type(zero))\n",
    "print(type(one))"
   ]
  },
  {
   "cell_type": "code",
   "execution_count": 13,
   "metadata": {},
   "outputs": [
    {
     "name": "stdout",
     "output_type": "stream",
     "text": [
      "198738\n"
     ]
    }
   ],
   "source": [
    "print(len(zero))"
   ]
  },
  {
   "cell_type": "code",
   "execution_count": 14,
   "metadata": {},
   "outputs": [
    {
     "name": "stdout",
     "output_type": "stream",
     "text": [
      "78786\n"
     ]
    }
   ],
   "source": [
    "print(len(one))"
   ]
  },
  {
   "cell_type": "code",
   "execution_count": null,
   "metadata": {
    "scrolled": true
   },
   "outputs": [],
   "source": [
    "!mkdir master\n"
   ]
  },
  {
   "cell_type": "code",
   "execution_count": null,
   "metadata": {},
   "outputs": [],
   "source": [
    "!mkdir \"../Breast-Cancer-Detection/master/zero\"\n"
   ]
  },
  {
   "cell_type": "code",
   "execution_count": null,
   "metadata": {},
   "outputs": [],
   "source": [
    "!mkdir \"../Breast-Cancer-Detection/master/one\""
   ]
  },
  {
   "cell_type": "code",
   "execution_count": 15,
   "metadata": {},
   "outputs": [],
   "source": [
    "for f in zero:\n",
    "    shutil.move(f, '../Breast-Cancer-Detection/master/zero')"
   ]
  },
  {
   "cell_type": "code",
   "execution_count": 16,
   "metadata": {
    "scrolled": true
   },
   "outputs": [
    {
     "name": "stdout",
     "output_type": "stream",
     "text": [
      "\n",
      "\n",
      "Finished Moving Files of Class 0\n",
      "\n",
      "\n"
     ]
    }
   ],
   "source": [
    "print(\"\\n\\nFinished Moving Files of Class 0\\n\\n\")"
   ]
  },
  {
   "cell_type": "code",
   "execution_count": 17,
   "metadata": {},
   "outputs": [],
   "source": [
    "for fi in one:\n",
    "    shutil.move(fi, '../Breast-Cancer-Detection/master/one')"
   ]
  },
  {
   "cell_type": "code",
   "execution_count": 18,
   "metadata": {},
   "outputs": [
    {
     "name": "stdout",
     "output_type": "stream",
     "text": [
      "\n",
      "\n",
      "Finished Moving Files of Class 1\n",
      "\n",
      "\n"
     ]
    }
   ],
   "source": [
    "print(\"\\n\\nFinished Moving Files of Class 1\\n\\n\")"
   ]
  }
 ],
 "metadata": {
  "kernelspec": {
   "display_name": "ai",
   "language": "python",
   "name": "ai"
  },
  "language_info": {
   "codemirror_mode": {
    "name": "ipython",
    "version": 3
   },
   "file_extension": ".py",
   "mimetype": "text/x-python",
   "name": "python",
   "nbconvert_exporter": "python",
   "pygments_lexer": "ipython3",
   "version": "3.6.13"
  }
 },
 "nbformat": 4,
 "nbformat_minor": 4
}
