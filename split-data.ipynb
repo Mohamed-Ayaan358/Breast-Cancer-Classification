{
 "cells": [
  {
   "cell_type": "code",
   "execution_count": 24,
   "metadata": {},
   "outputs": [],
   "source": [
    "import os\n",
    "import shutil\n",
    "from glob import glob\n",
    "import random\n",
    "import keras\n",
    "from keras.preprocessing.image import ImageDataGenerator"
   ]
  },
  {
   "cell_type": "code",
   "execution_count": 2,
   "metadata": {},
   "outputs": [],
   "source": [
    "!mkdir \"../Breast-Cancer-Detection/split-data\""
   ]
  },
  {
   "cell_type": "code",
   "execution_count": 3,
   "metadata": {},
   "outputs": [],
   "source": [
    "!mkdir \"../Breast-Cancer-Detection/split-data/train\"\n",
    "!mkdir \"../Breast-Cancer-Detection/split-data/test\"\n",
    "!mkdir \"../Breast-Cancer-Detection/split-data/valid\""
   ]
  },
  {
   "cell_type": "code",
   "execution_count": 4,
   "metadata": {},
   "outputs": [],
   "source": [
    "!mkdir \"../Breast-Cancer-Detection/split-data/train/zero\"\n",
    "!mkdir \"../Breast-Cancer-Detection/split-data/train/one\""
   ]
  },
  {
   "cell_type": "code",
   "execution_count": 5,
   "metadata": {},
   "outputs": [],
   "source": [
    "!mkdir \"../Breast-Cancer-Detection/split-data/test/zero\"\n",
    "!mkdir \"../Breast-Cancer-Detection/split-data/test/one\""
   ]
  },
  {
   "cell_type": "code",
   "execution_count": 6,
   "metadata": {},
   "outputs": [],
   "source": [
    "!mkdir \"../Breast-Cancer-Detection/split-data/valid/zero\"\n",
    "!mkdir \"../Breast-Cancer-Detection/split-data/valid/one\""
   ]
  },
  {
   "cell_type": "code",
   "execution_count": 7,
   "metadata": {},
   "outputs": [],
   "source": [
    "zero_patch = glob(\"../Breast-Cancer-Detection/master-dataset/zero/*.png\", recursive = True)"
   ]
  },
  {
   "cell_type": "code",
   "execution_count": 8,
   "metadata": {},
   "outputs": [
    {
     "name": "stdout",
     "output_type": "stream",
     "text": [
      "../Breast-Cancer-Detection/master-dataset/zero/14079_idx5_x2151_y1401_class0.png\n",
      "../Breast-Cancer-Detection/master-dataset/zero/12749_idx5_x1451_y701_class0.png\n",
      "../Breast-Cancer-Detection/master-dataset/zero/14157_idx5_x1651_y301_class0.png\n"
     ]
    }
   ],
   "source": [
    "for i in zero_patch[0:3]:\n",
    "    print(i)"
   ]
  },
  {
   "cell_type": "code",
   "execution_count": 9,
   "metadata": {},
   "outputs": [],
   "source": [
    "one_patch = glob(\"../Breast-Cancer-Detection/master-dataset/one/*.png\", recursive = True)"
   ]
  },
  {
   "cell_type": "code",
   "execution_count": 10,
   "metadata": {},
   "outputs": [
    {
     "name": "stdout",
     "output_type": "stream",
     "text": [
      "../Breast-Cancer-Detection/master-dataset/one/10286_idx5_x1251_y351_class1.png\n",
      "../Breast-Cancer-Detection/master-dataset/one/10269_idx5_x1351_y651_class1.png\n",
      "../Breast-Cancer-Detection/master-dataset/one/10307_idx5_x1351_y1801_class1.png\n"
     ]
    }
   ],
   "source": [
    "for i in one_patch[0:3]:\n",
    "    print(i)"
   ]
  },
  {
   "cell_type": "code",
   "execution_count": 18,
   "metadata": {
    "scrolled": true
   },
   "outputs": [
    {
     "name": "stdout",
     "output_type": "stream",
     "text": [
      "198738\n"
     ]
    }
   ],
   "source": [
    "print(len(zero_patch))"
   ]
  },
  {
   "cell_type": "code",
   "execution_count": 19,
   "metadata": {
    "scrolled": true
   },
   "outputs": [
    {
     "name": "stdout",
     "output_type": "stream",
     "text": [
      "78786\n"
     ]
    }
   ],
   "source": [
    "print(len(one_patch))"
   ]
  },
  {
   "cell_type": "code",
   "execution_count": 34,
   "metadata": {},
   "outputs": [],
   "source": [
    "split_1_zero = int(0.7*(len(zero_patch)))\n",
    "split_2_zero = int(0.85*(len(zero_patch)))"
   ]
  },
  {
   "cell_type": "code",
   "execution_count": 39,
   "metadata": {},
   "outputs": [],
   "source": [
    "split_1_one = int(0.7*(len(one_patch)))\n",
    "split_2_one = int(0.85*(len(one_patch)))"
   ]
  },
  {
   "cell_type": "code",
   "execution_count": 36,
   "metadata": {},
   "outputs": [],
   "source": [
    "train_zero = zero_patch[:split_1_zero]\n",
    "test_zero = zero_patch[split_1_zero:split_2_zero]\n",
    "valid_zero = zero_patch[split_2_zero:]"
   ]
  },
  {
   "cell_type": "code",
   "execution_count": 37,
   "metadata": {},
   "outputs": [
    {
     "data": {
      "text/plain": [
       "198738"
      ]
     },
     "execution_count": 37,
     "metadata": {},
     "output_type": "execute_result"
    }
   ],
   "source": [
    "len(train_zero) + len(test_zero) + len(valid_zero)"
   ]
  },
  {
   "cell_type": "code",
   "execution_count": 40,
   "metadata": {},
   "outputs": [],
   "source": [
    "train_one = one_patch[:split_1_one]\n",
    "test_one = one_patch[split_1_one:split_2_one]\n",
    "valid_one = one_patch[split_2_one:]"
   ]
  },
  {
   "cell_type": "code",
   "execution_count": 41,
   "metadata": {},
   "outputs": [
    {
     "data": {
      "text/plain": [
       "78786"
      ]
     },
     "execution_count": 41,
     "metadata": {},
     "output_type": "execute_result"
    }
   ],
   "source": [
    "len(train_one) + len(test_one) + len(valid_one)"
   ]
  },
  {
   "cell_type": "code",
   "execution_count": 42,
   "metadata": {},
   "outputs": [],
   "source": [
    "for file in train_zero:\n",
    "    shutil.move(file, \"../Breast-Cancer-Detection/split-data/train/zero\")\n",
    "for file in train_one:\n",
    "    shutil.move(file, \"../Breast-Cancer-Detection/split-data/train/one\")"
   ]
  },
  {
   "cell_type": "code",
   "execution_count": 43,
   "metadata": {},
   "outputs": [],
   "source": [
    "for file in test_zero:\n",
    "    shutil.move(file, \"../Breast-Cancer-Detection/split-data/test/zero\")\n",
    "for file in test_one:\n",
    "    shutil.move(file, \"../Breast-Cancer-Detection/split-data/test/one\")"
   ]
  },
  {
   "cell_type": "code",
   "execution_count": 44,
   "metadata": {},
   "outputs": [],
   "source": [
    "for file in valid_zero:\n",
    "    shutil.move(file, \"../Breast-Cancer-Detection/split-data/valid/zero\")\n",
    "for file in valid_one:\n",
    "    shutil.move(file, \"../Breast-Cancer-Detection/split-data/valid/one\")"
   ]
  },
  {
   "cell_type": "code",
   "execution_count": null,
   "metadata": {},
   "outputs": [],
   "source": []
  }
 ],
 "metadata": {
  "kernelspec": {
   "display_name": "ai",
   "language": "python",
   "name": "ai"
  },
  "language_info": {
   "codemirror_mode": {
    "name": "ipython",
    "version": 3
   },
   "file_extension": ".py",
   "mimetype": "text/x-python",
   "name": "python",
   "nbconvert_exporter": "python",
   "pygments_lexer": "ipython3",
   "version": "3.6.13"
  }
 },
 "nbformat": 4,
 "nbformat_minor": 4
}
