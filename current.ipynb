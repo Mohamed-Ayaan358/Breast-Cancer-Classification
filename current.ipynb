{
  "nbformat": 4,
  "nbformat_minor": 0,
  "metadata": {
    "colab": {
      "name": "resnet.ipynb",
      "provenance": [],
      "collapsed_sections": [],
      "mount_file_id": "1hicBwf67Ujt8IPW775jH1uFhbuXEnOK7",
      "authorship_tag": "ABX9TyNCwhv6CKva3l2kKDPcNn6d",
      "include_colab_link": true
    },
    "kernelspec": {
      "name": "python3",
      "display_name": "Python 3"
    },
    "language_info": {
      "name": "python"
    },
    "accelerator": "GPU"
  },
  "cells": [
    {
      "cell_type": "markdown",
      "metadata": {
        "id": "view-in-github",
        "colab_type": "text"
      },
      "source": [
        "<a href=\"https://colab.research.google.com/github/prateekrao/Breast-Cancer-Detection/blob/main/current.ipynb\" target=\"_parent\"><img src=\"https://colab.research.google.com/assets/colab-badge.svg\" alt=\"Open In Colab\"/></a>"
      ]
    },
    {
      "cell_type": "code",
      "metadata": {
        "id": "YGKCHJAxQvZB"
      },
      "source": [
        "!unzip \"/content/drive/MyDrive/split-data.zip\""
      ],
      "execution_count": null,
      "outputs": []
    },
    {
      "cell_type": "code",
      "metadata": {
        "id": "De7a3UqCUixI"
      },
      "source": [
        "import tensorflow as tf\n",
        "import keras\n",
        "from keras.layers import Conv2D, MaxPooling2D, Dense, Dropout, BatchNormalization, Flatten, GlobalAveragePooling2D\n",
        "from keras.applications import ResNet50\n",
        "from keras.optimizers import Adam\n",
        "from keras.callbacks import ModelCheckpoint\n",
        "from keras.preprocessing.image import ImageDataGenerator\n",
        "from keras.regularizers import l1, l2, l1_l2\n",
        "import matplotlib.pyplot as plt\n"
      ],
      "execution_count": 32,
      "outputs": []
    },
    {
      "cell_type": "code",
      "metadata": {
        "id": "4V0jcLPfaHEG"
      },
      "source": [
        "gen = ImageDataGenerator(\n",
        "    rescale = 1/255\n",
        ")"
      ],
      "execution_count": 4,
      "outputs": []
    },
    {
      "cell_type": "code",
      "metadata": {
        "colab": {
          "base_uri": "https://localhost:8080/"
        },
        "id": "eLUyWkcraQMH",
        "outputId": "d5705039-21cf-41b9-bff2-2a7347c05152"
      },
      "source": [
        "train_set = gen.flow_from_directory(\n",
        "    directory = \"/content/split-data/train\",\n",
        "    class_mode = 'categorical',\n",
        "    color_mode = 'rgb',\n",
        "    target_size = (128,128),\n",
        "    shuffle = True,\n",
        ")"
      ],
      "execution_count": 7,
      "outputs": [
        {
          "output_type": "stream",
          "text": [
            "Found 194266 images belonging to 2 classes.\n"
          ],
          "name": "stdout"
        }
      ]
    },
    {
      "cell_type": "code",
      "metadata": {
        "colab": {
          "base_uri": "https://localhost:8080/"
        },
        "id": "MbH5FmS_alWa",
        "outputId": "b5761046-8b54-469a-ed41-2c9f6eac5b34"
      },
      "source": [
        "test_set = gen.flow_from_directory(\n",
        "    directory = \"/content/split-data/test\",\n",
        "    target_size = (128,128),\n",
        "    color_mode = 'rgb',\n",
        "    class_mode = 'categorical',\n",
        "    shuffle = False\n",
        ")"
      ],
      "execution_count": 8,
      "outputs": [
        {
          "output_type": "stream",
          "text": [
            "Found 41629 images belonging to 2 classes.\n"
          ],
          "name": "stdout"
        }
      ]
    },
    {
      "cell_type": "code",
      "metadata": {
        "colab": {
          "base_uri": "https://localhost:8080/"
        },
        "id": "_PsTltoDa14P",
        "outputId": "2f99b839-9962-4255-9a55-f40eadffa7e5"
      },
      "source": [
        "validation_set = gen.flow_from_directory(\n",
        "    directory = '/content/split-data/valid',\n",
        "    target_size = (128,128),\n",
        "    color_mode = 'rgb',\n",
        "    class_mode = 'categorical',\n",
        "    shuffle = False\n",
        ")"
      ],
      "execution_count": 9,
      "outputs": [
        {
          "output_type": "stream",
          "text": [
            "Found 41629 images belonging to 2 classes.\n"
          ],
          "name": "stdout"
        }
      ]
    },
    {
      "cell_type": "code",
      "metadata": {
        "id": "jfSd_ER_bFBc"
      },
      "source": [
        "model = tf.keras.models.Sequential()\n",
        "\n",
        "model.add(Conv2D(32, (3,3),  activation='relu', input_shape=(128,128,3)))\n",
        "model.add(Conv2D(64, (3,3), activation= 'relu'))\n",
        "model.add(MaxPooling2D((2,2)))\n",
        "\n",
        "model.add(Conv2D(128, (5,5),  activation='relu'))\n",
        "model.add(Conv2D(256, (3,3), activation='relu'))\n",
        "model.add(MaxPooling2D((2,2)))\n",
        "\n",
        "model.add(GlobalAveragePooling2D())\n",
        "\n",
        "model.add(Dense(512, activation='relu', kernel_regularizer=l1(0.00001)))\n",
        "model.add(Dropout(0.5))\n",
        "model.add(Dense(512, activation= 'relu', kernel_regularizer=l2(0.00001)))\n",
        "model.add(Dropout(0.5))\n",
        "model.add(Dense(512, activation='relu', kernel_regularizer=l1_l2(0.00001)))\n",
        "model.add(Dropout(0.5))\n",
        "model.add(Dense(512, activation='relu', kernel_regularizer=l1_l2(0.0001)))\n",
        "model.add(Dense(2, activation='softmax'))"
      ],
      "execution_count": 25,
      "outputs": []
    },
    {
      "cell_type": "code",
      "metadata": {
        "id": "wervG6hmdWD1"
      },
      "source": [
        "opt = Adam(lr = 1e-05)\n",
        "\n",
        "model.compile(optimizer=opt, loss = 'categorical_crossentropy', metrics = ['accuracy'])"
      ],
      "execution_count": 28,
      "outputs": []
    },
    {
      "cell_type": "code",
      "metadata": {
        "colab": {
          "base_uri": "https://localhost:8080/"
        },
        "id": "MWktFnn-hkz2",
        "outputId": "9cc9aa6e-4778-4aea-db8c-c0e00b9a131f"
      },
      "source": [
        "history = model.fit(train_set, validation_data=validation_set, batch_size = 128, epochs = 10, shuffle = True)"
      ],
      "execution_count": 29,
      "outputs": [
        {
          "output_type": "stream",
          "text": [
            "Epoch 1/10\n",
            "6071/6071 [==============================] - 261s 43ms/step - loss: 3.5495 - accuracy: 0.8059 - val_loss: 0.6760 - val_accuracy: 0.8296\n",
            "Epoch 2/10\n",
            "6071/6071 [==============================] - 259s 43ms/step - loss: 0.5959 - accuracy: 0.8310 - val_loss: 0.4799 - val_accuracy: 0.8337\n",
            "Epoch 3/10\n",
            "6071/6071 [==============================] - 259s 43ms/step - loss: 0.4762 - accuracy: 0.8324 - val_loss: 0.4381 - val_accuracy: 0.8358\n",
            "Epoch 4/10\n",
            "6071/6071 [==============================] - 259s 43ms/step - loss: 0.4398 - accuracy: 0.8356 - val_loss: 0.4191 - val_accuracy: 0.8374\n",
            "Epoch 5/10\n",
            "6071/6071 [==============================] - 259s 43ms/step - loss: 0.4242 - accuracy: 0.8351 - val_loss: 0.4073 - val_accuracy: 0.8389\n",
            "Epoch 6/10\n",
            "6071/6071 [==============================] - 259s 43ms/step - loss: 0.4128 - accuracy: 0.8374 - val_loss: 0.4002 - val_accuracy: 0.8402\n",
            "Epoch 7/10\n",
            "6071/6071 [==============================] - 258s 42ms/step - loss: 0.4023 - accuracy: 0.8401 - val_loss: 0.3950 - val_accuracy: 0.8425\n",
            "Epoch 8/10\n",
            "6071/6071 [==============================] - 257s 42ms/step - loss: 0.4006 - accuracy: 0.8395 - val_loss: 0.3893 - val_accuracy: 0.8436\n",
            "Epoch 9/10\n",
            "6071/6071 [==============================] - 259s 43ms/step - loss: 0.3944 - accuracy: 0.8418 - val_loss: 0.4002 - val_accuracy: 0.8380\n",
            "Epoch 10/10\n",
            "6071/6071 [==============================] - 261s 43ms/step - loss: 0.3900 - accuracy: 0.8429 - val_loss: 0.3814 - val_accuracy: 0.8452\n"
          ],
          "name": "stdout"
        }
      ]
    },
    {
      "cell_type": "code",
      "metadata": {
        "colab": {
          "base_uri": "https://localhost:8080/"
        },
        "id": "NhA-gYRahxtx",
        "outputId": "bb93cddc-4ae0-4bd5-f351-f4a9da09b564"
      },
      "source": [
        "model.evaluate(test_set)"
      ],
      "execution_count": 30,
      "outputs": [
        {
          "output_type": "stream",
          "text": [
            "1301/1301 [==============================] - 49s 38ms/step - loss: 0.3814 - accuracy: 0.8460\n"
          ],
          "name": "stdout"
        },
        {
          "output_type": "execute_result",
          "data": {
            "text/plain": [
              "[0.3814196288585663, 0.8460208177566528]"
            ]
          },
          "metadata": {
            "tags": []
          },
          "execution_count": 30
        }
      ]
    },
    {
      "cell_type": "code",
      "metadata": {
        "colab": {
          "base_uri": "https://localhost:8080/",
          "height": 312
        },
        "id": "7xHRXpei4tKs",
        "outputId": "c7398736-3fb7-44b6-97c2-9732b3b13e93"
      },
      "source": [
        "plt.plot(history.history['accuracy'], label=\"Accuracy\")\n",
        "plt.plot(history.history['val_accuracy'], label=\"Validation Accuracy\")\n",
        "\n",
        "plt.ylabel(\"Accuracy/Loss\")\n",
        "plt.xlabel(\"Epochs\")\n",
        "plt.title(\"Plot\")\n",
        "plt.legend(\"upper left\")"
      ],
      "execution_count": 35,
      "outputs": [
        {
          "output_type": "execute_result",
          "data": {
            "text/plain": [
              "<matplotlib.legend.Legend at 0x7f933411e4d0>"
            ]
          },
          "metadata": {
            "tags": []
          },
          "execution_count": 35
        },
        {
          "output_type": "display_data",
          "data": {
            "image/png": "[encoded data removed]",
            "text/plain": [
              "<Figure size 432x288 with 1 Axes>"
            ]
          },
          "metadata": {
            "tags": [],
            "needs_background": "light"
          }
        }
      ]
    },
    {
      "cell_type": "code",
      "metadata": {
        "colab": {
          "base_uri": "https://localhost:8080/",
          "height": 284
        },
        "id": "1Me0TKT45o-h",
        "outputId": "607d190e-5dc0-46d5-f0e9-3c622c51002b"
      },
      "source": [
        "plt.plot(history.history['loss'], label= \"Loss\")\n",
        "plt.plot(history.history['val_loss'], label=\"Validation Loss\")\n"
      ],
      "execution_count": 36,
      "outputs": [
        {
          "output_type": "execute_result",
          "data": {
            "text/plain": [
              "[<matplotlib.lines.Line2D at 0x7f931baaa410>]"
            ]
          },
          "metadata": {
            "tags": []
          },
          "execution_count": 36
        },
        {
          "output_type": "display_data",
          "data": {
            "image/png": "[encoded data removed]",
            "text/plain": [
              "<Figure size 432x288 with 1 Axes>"
            ]
          },
          "metadata": {
            "tags": [],
            "needs_background": "light"
          }
        }
      ]
    },
    {
      "cell_type": "code",
      "metadata": {
        "id": "k6Erf7ve6JaG"
      },
      "source": [
        "model.save(\"/content/drive/MyDrive/best-model.h5\")"
      ],
      "execution_count": 37,
      "outputs": []
    },
    {
      "cell_type": "code",
      "metadata": {
        "id": "P0M0OrRV6XsD"
      },
      "source": [
        ""
      ],
      "execution_count": null,
      "outputs": []
    }
  ]
}