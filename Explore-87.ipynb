{
  "nbformat": 4,
  "nbformat_minor": 0,
  "metadata": {
    "colab": {
      "name": "Explore.ipynb",
      "provenance": [],
      "mount_file_id": "1bRxhUWpCzhV0iL0nhi5In8AIQELd6cdI",
      "authorship_tag": "ABX9TyMsKluRiI6maY+URUzrXYyR",
      "include_colab_link": true
    },
    "kernelspec": {
      "name": "python3",
      "display_name": "Python 3"
    },
    "language_info": {
      "name": "python"
    },
    "accelerator": "GPU"
  },
  "cells": [
    {
      "cell_type": "markdown",
      "metadata": {
        "id": "view-in-github",
        "colab_type": "text"
      },
      "source": [
        "<a href=\"https://colab.research.google.com/github/prateekrao/Breast-Cancer-Detection/blob/main/Explore-87.ipynb\" target=\"_parent\"><img src=\"https://colab.research.google.com/assets/colab-badge.svg\" alt=\"Open In Colab\"/></a>"
      ]
    },
    {
      "cell_type": "code",
      "metadata": {
        "id": "I0NvbmEUt1S_"
      },
      "source": [
        "!unzip \"/content/drive/MyDrive/split-data.zip\""
      ],
      "execution_count": null,
      "outputs": []
    },
    {
      "cell_type": "code",
      "metadata": {
        "id": "VS38QDGX4RRG"
      },
      "source": [
        "import tensorflow as tf\n",
        "import keras\n",
        "from keras.layers import Conv2D, MaxPooling2D, Dense, Dropout, BatchNormalization, Flatten, GlobalAveragePooling2D\n",
        "from keras.applications import ResNet50, DenseNet169, DenseNet121\n",
        "from keras.optimizers import Adam\n",
        "from keras.callbacks import ModelCheckpoint\n",
        "from keras.preprocessing.image import ImageDataGenerator\n",
        "from keras.regularizers import l1, l2, l1_l2\n",
        "import matplotlib.pyplot as plt"
      ],
      "execution_count": 20,
      "outputs": []
    },
    {
      "cell_type": "code",
      "metadata": {
        "id": "j2YjxELJ6aa_"
      },
      "source": [
        "gen = ImageDataGenerator(\n",
        "    rescale = 1/255,\n",
        "    samplewise_center = True,\n",
        "    samplewise_std_normalization = True\n",
        ")"
      ],
      "execution_count": 4,
      "outputs": []
    },
    {
      "cell_type": "code",
      "metadata": {
        "colab": {
          "base_uri": "https://localhost:8080/"
        },
        "id": "qgD5G7BuTnfB",
        "outputId": "17f1809d-af9f-4e40-ea4a-c09909de2ff8"
      },
      "source": [
        "train_set = gen.flow_from_directory(\n",
        "    \"/content/split-data/train/\",\n",
        "    target_size = (128,128),\n",
        "    class_mode = 'sparse',\n",
        "    shuffle = True,\n",
        "    seed = 865,\n",
        "    color_mode = 'rgb'\n",
        ")"
      ],
      "execution_count": 8,
      "outputs": [
        {
          "output_type": "stream",
          "text": [
            "Found 194266 images belonging to 2 classes.\n"
          ],
          "name": "stdout"
        }
      ]
    },
    {
      "cell_type": "code",
      "metadata": {
        "colab": {
          "base_uri": "https://localhost:8080/"
        },
        "id": "0cFMidozY7zp",
        "outputId": "752a96fd-d7cb-435d-e74c-cec476b0b3e2"
      },
      "source": [
        "test_set = gen.flow_from_directory(\n",
        "    \"/content/split-data/test/\",\n",
        "    target_size = (128,128),\n",
        "    class_mode = 'sparse',\n",
        "    shuffle = False,\n",
        "    color_mode = 'rgb'\n",
        ")"
      ],
      "execution_count": 9,
      "outputs": [
        {
          "output_type": "stream",
          "text": [
            "Found 41629 images belonging to 2 classes.\n"
          ],
          "name": "stdout"
        }
      ]
    },
    {
      "cell_type": "code",
      "metadata": {
        "colab": {
          "base_uri": "https://localhost:8080/"
        },
        "id": "G2K3Ine3ZAwP",
        "outputId": "7cb2bcc3-7ae0-47ec-c330-679e3faeaf1a"
      },
      "source": [
        "valid_set = gen.flow_from_directory(\n",
        "    \"/content/split-data/valid/\",\n",
        "    target_size = (128,128),\n",
        "    class_mode = 'sparse',\n",
        "    shuffle = True,\n",
        "    color_mode = 'rgb'\n",
        ")"
      ],
      "execution_count": 10,
      "outputs": [
        {
          "output_type": "stream",
          "text": [
            "Found 41629 images belonging to 2 classes.\n"
          ],
          "name": "stdout"
        }
      ]
    },
    {
      "cell_type": "code",
      "metadata": {
        "colab": {
          "base_uri": "https://localhost:8080/"
        },
        "id": "96w7wLc6ZEUH",
        "outputId": "caf214fc-240b-4b6e-c0ba-e3fb5e55782a"
      },
      "source": [
        "densenet = DenseNet121(include_top=False, weights = 'imagenet', input_shape = (128,128,3))"
      ],
      "execution_count": 21,
      "outputs": [
        {
          "output_type": "stream",
          "text": [
            "Downloading data from https://storage.googleapis.com/tensorflow/keras-applications/densenet/densenet121_weights_tf_dim_ordering_tf_kernels_notop.h5\n",
            "29089792/29084464 [==============================] - 0s 0us/step\n"
          ],
          "name": "stdout"
        }
      ]
    },
    {
      "cell_type": "code",
      "metadata": {
        "id": "IwoXAqJc4ltj"
      },
      "source": [
        "for layer in densenet.layers:\n",
        "  layer.trainable = False"
      ],
      "execution_count": 22,
      "outputs": []
    },
    {
      "cell_type": "code",
      "metadata": {
        "id": "QEof9sreZnW0"
      },
      "source": [
        "model = tf.keras.Sequential()\n",
        "\n",
        "model.add(densenet)\n",
        "model.add(GlobalAveragePooling2D())\n",
        "\n",
        "model.add(Dense(512, activation='relu', kernel_regularizer=l1(0.000001)))\n",
        "model.add(Dropout(0.5))\n",
        "model.add(Dense(512, activation= 'relu', kernel_regularizer=l2(0.0000001)))\n",
        "model.add(Dropout(0.5))\n",
        "model.add(Dense(512, activation='relu', kernel_regularizer=l1_l2(0.00001)))\n",
        "model.add(Dropout(0.5))\n",
        "model.add(Dense(512, activation='relu', kernel_regularizer=l1_l2(0.000001)))\n",
        "model.add(Dense(2, activation='softmax'))"
      ],
      "execution_count": 23,
      "outputs": []
    },
    {
      "cell_type": "code",
      "metadata": {
        "colab": {
          "base_uri": "https://localhost:8080/"
        },
        "id": "bEDTtlnua8f9",
        "outputId": "b8d32488-129d-4547-e5aa-d21b751186cf"
      },
      "source": [
        "model.summary()\n"
      ],
      "execution_count": 24,
      "outputs": [
        {
          "output_type": "stream",
          "text": [
            "Model: \"sequential_1\"\n",
            "_________________________________________________________________\n",
            "Layer (type)                 Output Shape              Param #   \n",
            "=================================================================\n",
            "densenet121 (Functional)     (None, 4, 4, 1024)        7037504   \n",
            "_________________________________________________________________\n",
            "global_average_pooling2d_1 ( (None, 1024)              0         \n",
            "_________________________________________________________________\n",
            "dense_5 (Dense)              (None, 512)               524800    \n",
            "_________________________________________________________________\n",
            "dropout_3 (Dropout)          (None, 512)               0         \n",
            "_________________________________________________________________\n",
            "dense_6 (Dense)              (None, 512)               262656    \n",
            "_________________________________________________________________\n",
            "dropout_4 (Dropout)          (None, 512)               0         \n",
            "_________________________________________________________________\n",
            "dense_7 (Dense)              (None, 512)               262656    \n",
            "_________________________________________________________________\n",
            "dropout_5 (Dropout)          (None, 512)               0         \n",
            "_________________________________________________________________\n",
            "dense_8 (Dense)              (None, 512)               262656    \n",
            "_________________________________________________________________\n",
            "dense_9 (Dense)              (None, 2)                 1026      \n",
            "=================================================================\n",
            "Total params: 8,351,298\n",
            "Trainable params: 1,313,794\n",
            "Non-trainable params: 7,037,504\n",
            "_________________________________________________________________\n"
          ],
          "name": "stdout"
        }
      ]
    },
    {
      "cell_type": "code",
      "metadata": {
        "id": "IoBmiuD2bjeF"
      },
      "source": [
        "opt = Adam(lr = 1e-05)\n",
        "\n",
        "model.compile(optimizer=opt, loss = 'sparse_categorical_crossentropy', metrics = ['accuracy'])"
      ],
      "execution_count": 25,
      "outputs": []
    },
    {
      "cell_type": "code",
      "metadata": {
        "colab": {
          "base_uri": "https://localhost:8080/"
        },
        "id": "nEsiW1OcbpnD",
        "outputId": "3950359c-b42e-435a-f2e1-4d66a6e16903"
      },
      "source": [
        "from keras.callbacks import ModelCheckpoint\n",
        "checkpoint = ModelCheckpoint(\"/content/drive/MyDrive/densenet.h5\")\n",
        "checkpoint"
      ],
      "execution_count": 26,
      "outputs": [
        {
          "output_type": "execute_result",
          "data": {
            "text/plain": [
              "<tensorflow.python.keras.callbacks.ModelCheckpoint at 0x7ff271e00990>"
            ]
          },
          "metadata": {
            "tags": []
          },
          "execution_count": 26
        }
      ]
    },
    {
      "cell_type": "code",
      "metadata": {
        "colab": {
          "base_uri": "https://localhost:8080/"
        },
        "id": "L1X-j-B5bm1U",
        "outputId": "be17409c-c656-4766-83ee-097285e973cc"
      },
      "source": [
        "history = model.fit(train_set, validation_data=valid_set, batch_size = 128, epochs = 20, shuffle = True)"
      ],
      "execution_count": 27,
      "outputs": [
        {
          "output_type": "stream",
          "text": [
            "Epoch 1/20\n",
            "6071/6071 [==============================] - 303s 49ms/step - loss: 8.9608 - accuracy: 0.7447 - val_loss: 4.1811 - val_accuracy: 0.8437\n",
            "Epoch 2/20\n",
            "6071/6071 [==============================] - 296s 49ms/step - loss: 3.3169 - accuracy: 0.8398 - val_loss: 1.4810 - val_accuracy: 0.8527\n",
            "Epoch 3/20\n",
            "6071/6071 [==============================] - 296s 49ms/step - loss: 1.2197 - accuracy: 0.8491 - val_loss: 0.6693 - val_accuracy: 0.8567\n",
            "Epoch 4/20\n",
            "6071/6071 [==============================] - 295s 49ms/step - loss: 0.6070 - accuracy: 0.8530 - val_loss: 0.4450 - val_accuracy: 0.8599\n",
            "Epoch 5/20\n",
            "6071/6071 [==============================] - 298s 49ms/step - loss: 0.4328 - accuracy: 0.8582 - val_loss: 0.3782 - val_accuracy: 0.8616\n",
            "Epoch 6/20\n",
            "6071/6071 [==============================] - 295s 49ms/step - loss: 0.3811 - accuracy: 0.8583 - val_loss: 0.3519 - val_accuracy: 0.8633\n",
            "Epoch 7/20\n",
            "6071/6071 [==============================] - 295s 49ms/step - loss: 0.3572 - accuracy: 0.8610 - val_loss: 0.3420 - val_accuracy: 0.8648\n",
            "Epoch 8/20\n",
            "6071/6071 [==============================] - 295s 49ms/step - loss: 0.3456 - accuracy: 0.8635 - val_loss: 0.3339 - val_accuracy: 0.8662\n",
            "Epoch 9/20\n",
            "6071/6071 [==============================] - 296s 49ms/step - loss: 0.3391 - accuracy: 0.8658 - val_loss: 0.3298 - val_accuracy: 0.8662\n",
            "Epoch 10/20\n",
            "6071/6071 [==============================] - 296s 49ms/step - loss: 0.3350 - accuracy: 0.8666 - val_loss: 0.3261 - val_accuracy: 0.8676\n",
            "Epoch 11/20\n",
            "6071/6071 [==============================] - 296s 49ms/step - loss: 0.3331 - accuracy: 0.8664 - val_loss: 0.3237 - val_accuracy: 0.8688\n",
            "Epoch 12/20\n",
            "6071/6071 [==============================] - 296s 49ms/step - loss: 0.3295 - accuracy: 0.8688 - val_loss: 0.3216 - val_accuracy: 0.8698\n",
            "Epoch 13/20\n",
            "6071/6071 [==============================] - 295s 49ms/step - loss: 0.3262 - accuracy: 0.8694 - val_loss: 0.3210 - val_accuracy: 0.8695\n",
            "Epoch 14/20\n",
            "6071/6071 [==============================] - 296s 49ms/step - loss: 0.3249 - accuracy: 0.8708 - val_loss: 0.3204 - val_accuracy: 0.8705\n",
            "Epoch 15/20\n",
            "6071/6071 [==============================] - 296s 49ms/step - loss: 0.3204 - accuracy: 0.8721 - val_loss: 0.3189 - val_accuracy: 0.8709\n",
            "Epoch 16/20\n",
            "6071/6071 [==============================] - 294s 48ms/step - loss: 0.3191 - accuracy: 0.8733 - val_loss: 0.3162 - val_accuracy: 0.8723\n",
            "Epoch 17/20\n",
            "6071/6071 [==============================] - 297s 49ms/step - loss: 0.3172 - accuracy: 0.8738 - val_loss: 0.3171 - val_accuracy: 0.8722\n",
            "Epoch 18/20\n",
            "6071/6071 [==============================] - 296s 49ms/step - loss: 0.3157 - accuracy: 0.8737 - val_loss: 0.3132 - val_accuracy: 0.8724\n",
            "Epoch 19/20\n",
            "6071/6071 [==============================] - 302s 50ms/step - loss: 0.3140 - accuracy: 0.8745 - val_loss: 0.3124 - val_accuracy: 0.8732\n",
            "Epoch 20/20\n",
            "6071/6071 [==============================] - 299s 49ms/step - loss: 0.3109 - accuracy: 0.8764 - val_loss: 0.3115 - val_accuracy: 0.8737\n"
          ],
          "name": "stdout"
        }
      ]
    },
    {
      "cell_type": "code",
      "metadata": {
        "id": "pLjtPtLCb3zn"
      },
      "source": [
        "model.save(\"/content/drive/MyDrive/last_epoch.h5\")"
      ],
      "execution_count": 28,
      "outputs": []
    },
    {
      "cell_type": "code",
      "metadata": {
        "id": "phg9qGvxHZKG"
      },
      "source": [
        "model.save_weights(\"/content/drive/MyDrive/last_epoch.h5\")"
      ],
      "execution_count": 29,
      "outputs": []
    },
    {
      "cell_type": "code",
      "metadata": {
        "colab": {
          "base_uri": "https://localhost:8080/"
        },
        "id": "j66ha2BuHekk",
        "outputId": "3e1e85ed-00fa-42d2-cff2-5dbe4b2b4612"
      },
      "source": [
        "model.evaluate(test_set)"
      ],
      "execution_count": 30,
      "outputs": [
        {
          "output_type": "stream",
          "text": [
            "1301/1301 [==============================] - 67s 51ms/step - loss: 0.3125 - accuracy: 0.8739\n"
          ],
          "name": "stdout"
        },
        {
          "output_type": "execute_result",
          "data": {
            "text/plain": [
              "[0.3124794065952301, 0.8739100098609924]"
            ]
          },
          "metadata": {
            "tags": []
          },
          "execution_count": 30
        }
      ]
    },
    {
      "cell_type": "code",
      "metadata": {
        "colab": {
          "base_uri": "https://localhost:8080/",
          "height": 268
        },
        "id": "PzDBvyGkL_yR",
        "outputId": "07f928ed-7849-4ad2-8f69-8c439155c65d"
      },
      "source": [
        "plt.plot(history.history['accuracy'])\n",
        "plt.plot(history.history['val_accuracy'])\n",
        "plt.show()"
      ],
      "execution_count": 31,
      "outputs": [
        {
          "output_type": "display_data",
          "data": {
            "image/png": "[encoded data removed]",
            "text/plain": [
              "<Figure size 432x288 with 1 Axes>"
            ]
          },
          "metadata": {
            "tags": [],
            "needs_background": "light"
          }
        }
      ]
    },
    {
      "cell_type": "code",
      "metadata": {
        "colab": {
          "base_uri": "https://localhost:8080/",
          "height": 265
        },
        "id": "uEuBauIzMGcS",
        "outputId": "3ad9a8ce-0e06-42cb-b6f5-daa4adc4da82"
      },
      "source": [
        "plt.plot(history.history['loss'])\n",
        "plt.plot(history.history['val_loss'])\n",
        "plt.show()"
      ],
      "execution_count": 32,
      "outputs": [
        {
          "output_type": "display_data",
          "data": {
            "image/png": "[encoded data removed]",
            "text/plain": [
              "<Figure size 432x288 with 1 Axes>"
            ]
          },
          "metadata": {
            "tags": [],
            "needs_background": "light"
          }
        }
      ]
    },
    {
      "cell_type": "code",
      "metadata": {
        "id": "7sn8ZcLQMNTW"
      },
      "source": [
        ""
      ],
      "execution_count": null,
      "outputs": []
    }
  ]
}