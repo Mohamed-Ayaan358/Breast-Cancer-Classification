{
  "nbformat": 4,
  "nbformat_minor": 0,
  "metadata": {
    "colab": {
      "name": "New-Densenet-train.ipynb",
      "provenance": [],
      "mount_file_id": "1RR_YIk7fa4dig_P3piOAK-hfY7raoNqq",
      "authorship_tag": "ABX9TyMT1qsfeaj8bujTg4d+DPAL",
      "include_colab_link": true
    },
    "kernelspec": {
      "name": "python3",
      "display_name": "Python 3"
    },
    "language_info": {
      "name": "python"
    },
    "accelerator": "GPU"
  },
  "cells": [
    {
      "cell_type": "markdown",
      "metadata": {
        "id": "view-in-github",
        "colab_type": "text"
      },
      "source": [
        "<a href=\"https://colab.research.google.com/github/prateekrao/Breast-Cancer-Detection/blob/main/New_Densenet_train-false-86.ipynb\" target=\"_parent\"><img src=\"https://colab.research.google.com/assets/colab-badge.svg\" alt=\"Open In Colab\"/></a>"
      ]
    },
    {
      "cell_type": "code",
      "metadata": {
        "id": "mu6xV3fo4-nJ"
      },
      "source": [
        "!unzip \"/content/drive/MyDrive/split-data.zip\""
      ],
      "execution_count": null,
      "outputs": []
    },
    {
      "cell_type": "code",
      "metadata": {
        "id": "JkhCOtaGDf6g"
      },
      "source": [
        "import tensorflow as tf\n",
        "import keras\n",
        "from keras.layers import Conv2D, MaxPooling2D, Dense, Dropout, BatchNormalization, Flatten, GlobalAveragePooling2D\n",
        "from keras.applications import ResNet50, DenseNet169, DenseNet121, DenseNet201, MobileNetV2\n",
        "from keras.optimizers import Adam\n",
        "from keras.callbacks import ModelCheckpoint\n",
        "from keras.preprocessing.image import ImageDataGenerator\n",
        "from keras.regularizers import l1, l2, l1_l2\n",
        "import matplotlib.pyplot as plt"
      ],
      "execution_count": 28,
      "outputs": []
    },
    {
      "cell_type": "code",
      "metadata": {
        "id": "s8uGTHU0DyjC"
      },
      "source": [
        "tgen = ImageDataGenerator(\n",
        "    rescale = 1/255,\n",
        "    samplewise_center = True,\n",
        "    samplewise_std_normalization = True\n",
        ")"
      ],
      "execution_count": 8,
      "outputs": []
    },
    {
      "cell_type": "code",
      "metadata": {
        "colab": {
          "base_uri": "https://localhost:8080/"
        },
        "id": "8ctFK33ED11c",
        "outputId": "b0435394-d635-4411-acc8-3596ac617040"
      },
      "source": [
        "train_set = tgen.flow_from_directory(\n",
        "    \"/content/split-data/train\",\n",
        "    target_size = (128,128),\n",
        "    class_mode = 'sparse',\n",
        "    shuffle = True,\n",
        "    seed = 865,\n",
        "    color_mode = 'rgb'\n",
        ")"
      ],
      "execution_count": 9,
      "outputs": [
        {
          "output_type": "stream",
          "text": [
            "Found 194266 images belonging to 2 classes.\n"
          ],
          "name": "stdout"
        }
      ]
    },
    {
      "cell_type": "code",
      "metadata": {
        "id": "5mehzCBlEDoS"
      },
      "source": [
        "ogen = ImageDataGenerator(\n",
        "    rescale = 1/255\n",
        ")"
      ],
      "execution_count": 10,
      "outputs": []
    },
    {
      "cell_type": "code",
      "metadata": {
        "colab": {
          "base_uri": "https://localhost:8080/"
        },
        "id": "iPQ5VjrtEJAu",
        "outputId": "211d92a7-ecf2-4c38-84b4-a00ff761c1db"
      },
      "source": [
        "test_set = tgen.flow_from_directory(\n",
        "    \"/content/split-data/test\",\n",
        "    target_size = (128,128),\n",
        "    class_mode = 'sparse',\n",
        "    shuffle = False,\n",
        "    color_mode = 'rgb'\n",
        ")"
      ],
      "execution_count": 44,
      "outputs": [
        {
          "output_type": "stream",
          "text": [
            "Found 41629 images belonging to 2 classes.\n"
          ],
          "name": "stdout"
        }
      ]
    },
    {
      "cell_type": "code",
      "metadata": {
        "colab": {
          "base_uri": "https://localhost:8080/"
        },
        "id": "u1TSHXoqEOX0",
        "outputId": "e1f0faac-4a96-49e7-eb22-9e03146921f0"
      },
      "source": [
        "valid_set = tgen.flow_from_directory(\n",
        "    \"/content/split-data/test\",\n",
        "    target_size = (128,128),\n",
        "    class_mode = 'sparse',\n",
        "    shuffle = False,\n",
        "    color_mode = 'rgb'\n",
        ")"
      ],
      "execution_count": 45,
      "outputs": [
        {
          "output_type": "stream",
          "text": [
            "Found 41629 images belonging to 2 classes.\n"
          ],
          "name": "stdout"
        }
      ]
    },
    {
      "cell_type": "code",
      "metadata": {
        "id": "8NGph_ATEUHY"
      },
      "source": [
        "densenet = DenseNet121(include_top = False, weights = 'imagenet', input_shape = (128,128,3))\n"
      ],
      "execution_count": 46,
      "outputs": []
    },
    {
      "cell_type": "code",
      "metadata": {
        "id": "2G4qOZFzEim_"
      },
      "source": [
        "for layer in densenet.layers:\n",
        "  layer.trainable = False"
      ],
      "execution_count": 47,
      "outputs": []
    },
    {
      "cell_type": "code",
      "metadata": {
        "id": "JyQn5OshEkBA"
      },
      "source": [
        "model = tf.keras.Sequential()\n",
        "\n",
        "model.add(densenet)\n",
        "\n",
        "model.add(Conv2D(64, activation='relu', kernel_size=(3,3)))\n",
        "model.add(GlobalAveragePooling2D())\n",
        "\n",
        "model.add(Dense(512, activation='relu', kernel_regularizer=l1(0.000001)))\n",
        "model.add(Dropout(0.5))\n",
        "model.add(Dense(512, activation= 'relu', kernel_regularizer=l2(0.0000001)))\n",
        "model.add(Dropout(0.5))\n",
        "model.add(Dense(512, activation='relu', kernel_regularizer=l1_l2(0.00001)))\n",
        "model.add(Dropout(0.5))\n",
        "model.add(Dense(512, activation='relu', kernel_regularizer=l1_l2(0.000001)))\n",
        "model.add(Dense(2, activation='softmax'))"
      ],
      "execution_count": 48,
      "outputs": []
    },
    {
      "cell_type": "code",
      "metadata": {
        "colab": {
          "base_uri": "https://localhost:8080/"
        },
        "id": "_KL6XP9gEyir",
        "outputId": "c407a205-6ace-4e17-f8a8-53046bc5b89b"
      },
      "source": [
        "model.summary()"
      ],
      "execution_count": 49,
      "outputs": [
        {
          "output_type": "stream",
          "text": [
            "Model: \"sequential_5\"\n",
            "_________________________________________________________________\n",
            "Layer (type)                 Output Shape              Param #   \n",
            "=================================================================\n",
            "densenet121 (Functional)     (None, 4, 4, 1024)        7037504   \n",
            "_________________________________________________________________\n",
            "conv2d_5 (Conv2D)            (None, 2, 2, 64)          589888    \n",
            "_________________________________________________________________\n",
            "global_average_pooling2d_4 ( (None, 64)                0         \n",
            "_________________________________________________________________\n",
            "dense_15 (Dense)             (None, 512)               33280     \n",
            "_________________________________________________________________\n",
            "dropout_9 (Dropout)          (None, 512)               0         \n",
            "_________________________________________________________________\n",
            "dense_16 (Dense)             (None, 512)               262656    \n",
            "_________________________________________________________________\n",
            "dropout_10 (Dropout)         (None, 512)               0         \n",
            "_________________________________________________________________\n",
            "dense_17 (Dense)             (None, 512)               262656    \n",
            "_________________________________________________________________\n",
            "dropout_11 (Dropout)         (None, 512)               0         \n",
            "_________________________________________________________________\n",
            "dense_18 (Dense)             (None, 512)               262656    \n",
            "_________________________________________________________________\n",
            "dense_19 (Dense)             (None, 2)                 1026      \n",
            "=================================================================\n",
            "Total params: 8,449,666\n",
            "Trainable params: 1,412,162\n",
            "Non-trainable params: 7,037,504\n",
            "_________________________________________________________________\n"
          ],
          "name": "stdout"
        }
      ]
    },
    {
      "cell_type": "code",
      "metadata": {
        "id": "1qIrWCu_FXUt"
      },
      "source": [
        "opt = Adam(lr = 9e-05)\n",
        "\n",
        "model.compile(optimizer=opt, loss = 'sparse_categorical_crossentropy', metrics = ['accuracy'])"
      ],
      "execution_count": 50,
      "outputs": []
    },
    {
      "cell_type": "code",
      "metadata": {
        "colab": {
          "base_uri": "https://localhost:8080/"
        },
        "id": "x1NiyePuFeXJ",
        "outputId": "dd4e8ba9-b629-44e9-ddf3-2a5e1357482c"
      },
      "source": [
        "from keras.callbacks import ModelCheckpoint\n",
        "checkpoint = ModelCheckpoint(\"/content/drive/MyDrive/densenet_and_conv_best.h5\")\n",
        "checkpoint"
      ],
      "execution_count": 51,
      "outputs": [
        {
          "output_type": "execute_result",
          "data": {
            "text/plain": [
              "<tensorflow.python.keras.callbacks.ModelCheckpoint at 0x7f1d1d176c50>"
            ]
          },
          "metadata": {
            "tags": []
          },
          "execution_count": 51
        }
      ]
    },
    {
      "cell_type": "code",
      "metadata": {
        "colab": {
          "base_uri": "https://localhost:8080/"
        },
        "id": "t4oEf_GZFiky",
        "outputId": "73b1f929-8eb5-4e2a-b972-c67d49bb27a3"
      },
      "source": [
        "history = model.fit(train_set, validation_data=valid_set, batch_size = 128, epochs = 20, shuffle = True)"
      ],
      "execution_count": null,
      "outputs": [
        {
          "output_type": "stream",
          "text": [
            "Epoch 1/20\n",
            "6071/6071 [==============================] - 734s 120ms/step - loss: 2.7779 - accuracy: 0.8349 - val_loss: 0.3277 - val_accuracy: 0.8657\n",
            "Epoch 2/20\n",
            "6071/6071 [==============================] - 724s 119ms/step - loss: 0.3254 - accuracy: 0.8680 - val_loss: 0.3235 - val_accuracy: 0.8678\n",
            "Epoch 3/20\n",
            "6071/6071 [==============================] - 724s 119ms/step - loss: 0.3118 - accuracy: 0.8720 - val_loss: 0.3177 - val_accuracy: 0.8699\n",
            "Epoch 4/20\n",
            "6071/6071 [==============================] - 724s 119ms/step - loss: 0.3064 - accuracy: 0.8744 - val_loss: 0.3152 - val_accuracy: 0.8683\n",
            "Epoch 5/20\n",
            "6071/6071 [==============================] - 715s 118ms/step - loss: 0.3015 - accuracy: 0.8772 - val_loss: 0.3154 - val_accuracy: 0.8682\n",
            "Epoch 6/20\n",
            "6071/6071 [==============================] - 719s 118ms/step - loss: 0.2945 - accuracy: 0.8796 - val_loss: 0.3163 - val_accuracy: 0.8705\n",
            "Epoch 7/20\n",
            "6071/6071 [==============================] - 717s 118ms/step - loss: 0.2883 - accuracy: 0.8822 - val_loss: 0.3134 - val_accuracy: 0.8670\n",
            "Epoch 8/20\n",
            "6071/6071 [==============================] - 717s 118ms/step - loss: 0.2827 - accuracy: 0.8848 - val_loss: 0.3125 - val_accuracy: 0.8712\n",
            "Epoch 9/20\n",
            "6071/6071 [==============================] - 720s 119ms/step - loss: 0.2793 - accuracy: 0.8854 - val_loss: 0.3162 - val_accuracy: 0.8699\n",
            "Epoch 10/20\n",
            "6071/6071 [==============================] - 729s 120ms/step - loss: 0.2743 - accuracy: 0.8885 - val_loss: 0.3205 - val_accuracy: 0.8673\n",
            "Epoch 11/20\n",
            "6071/6071 [==============================] - 729s 120ms/step - loss: 0.2678 - accuracy: 0.8909 - val_loss: 0.3209 - val_accuracy: 0.8675\n",
            "Epoch 12/20\n",
            "6071/6071 [==============================] - 729s 120ms/step - loss: 0.2669 - accuracy: 0.8922 - val_loss: 0.3184 - val_accuracy: 0.8697\n",
            "Epoch 13/20\n",
            "6071/6071 [==============================] - 731s 120ms/step - loss: 0.2606 - accuracy: 0.8945 - val_loss: 0.3318 - val_accuracy: 0.8637\n",
            "Epoch 14/20\n",
            "6071/6071 [==============================] - 733s 121ms/step - loss: 0.2558 - accuracy: 0.8965 - val_loss: 0.3258 - val_accuracy: 0.8687\n",
            "Epoch 15/20\n",
            "6071/6071 [==============================] - 734s 121ms/step - loss: 0.2525 - accuracy: 0.8979 - val_loss: 0.3363 - val_accuracy: 0.8648\n",
            "Epoch 16/20\n",
            "6071/6071 [==============================] - 733s 121ms/step - loss: 0.2525 - accuracy: 0.8985 - val_loss: 0.3364 - val_accuracy: 0.8670\n",
            "Epoch 17/20\n",
            "6071/6071 [==============================] - 732s 121ms/step - loss: 0.2448 - accuracy: 0.9024 - val_loss: 0.3386 - val_accuracy: 0.8658\n",
            "Epoch 18/20\n",
            "4583/6071 [=====================>........] - ETA: 2:29 - loss: 0.2400 - accuracy: 0.9039"
          ],
          "name": "stdout"
        }
      ]
    },
    {
      "cell_type": "markdown",
      "metadata": {
        "id": "pt6RbgZMFlg7"
      },
      "source": [
        "# **TEST SET: DISABLE SAMPLEWISE_DIST AND EVALUATE**"
      ]
    },
    {
      "cell_type": "code",
      "metadata": {
        "id": "-cNTszC9JcuC"
      },
      "source": [
        "gennew = ImageDataGenerator(rescale = 1/255)"
      ],
      "execution_count": null,
      "outputs": []
    },
    {
      "cell_type": "code",
      "metadata": {
        "id": "djdEtssJJgqo"
      },
      "source": [
        "test_set = gennew.flow_from_directory(\n",
        "    \"/content/split-data/test\",\n",
        "    target_size = (128,128),\n",
        "    shuffle = False,\n",
        "    color_mode = 'rgb',\n",
        "    class_mode = 'sparse',\n",
        ")"
      ],
      "execution_count": null,
      "outputs": []
    },
    {
      "cell_type": "code",
      "metadata": {
        "id": "Qv16svA-KKbF"
      },
      "source": [
        "model.evaluate(test_set)"
      ],
      "execution_count": null,
      "outputs": []
    },
    {
      "cell_type": "code",
      "metadata": {
        "id": "Y6DQq1RgKMWd"
      },
      "source": [
        "plt.plot(history.history['accuracy'])\n",
        "plt.plot(history.history['val_accuracy'])\n",
        "plt.title(\"Accuracy Graph\")"
      ],
      "execution_count": null,
      "outputs": []
    },
    {
      "cell_type": "code",
      "metadata": {
        "id": "4_H77KuuKPPp"
      },
      "source": [
        "plt.plot(history.history['loss'])\n",
        "plt.plot(history.history['val_loss'])\n",
        "plt.plot(\"Loss Graph\")"
      ],
      "execution_count": null,
      "outputs": []
    },
    {
      "cell_type": "code",
      "metadata": {
        "id": "xtqqi78vKQ2A"
      },
      "source": [
        ""
      ],
      "execution_count": null,
      "outputs": []
    }
  ]
}