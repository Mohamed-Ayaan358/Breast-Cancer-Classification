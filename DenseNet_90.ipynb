{
  "nbformat": 4,
  "nbformat_minor": 0,
  "metadata": {
    "colab": {
      "name": "DenseNet-90.ipynb",
      "provenance": [],
      "authorship_tag": "ABX9TyO6raVzNJLws9XvbEWgECSs",
      "include_colab_link": true
    },
    "kernelspec": {
      "name": "python3",
      "display_name": "Python 3"
    },
    "language_info": {
      "name": "python"
    },
    "accelerator": "GPU"
  },
  "cells": [
    {
      "cell_type": "markdown",
      "metadata": {
        "id": "view-in-github",
        "colab_type": "text"
      },
      "source": [
        "<a href=\"https://colab.research.google.com/github/prateekrao/Breast-Cancer-Detection/blob/main/DenseNet_90.ipynb\" target=\"_parent\"><img src=\"https://colab.research.google.com/assets/colab-badge.svg\" alt=\"Open In Colab\"/></a>"
      ]
    },
    {
      "cell_type": "code",
      "metadata": {
        "id": "1a6fXZ8ANCLG"
      },
      "source": [
        "! pip install --upgrade --force-reinstall --no-deps kaggle\n",
        "from google.colab import files\n",
        "files.upload()\n",
        "! mkdir ~/.kaggle\n",
        "! cp kaggle.json ~/.kaggle/\n",
        "! chmod 600 ~/.kaggle/kaggle.json\n",
        "! kaggle datasets list\n",
        "! kaggle datasets download -d rprateek/breasthistopathologyimages\n",
        "! unzip -d dataset breasthistopathologyimages.zip"
      ],
      "execution_count": null,
      "outputs": []
    },
    {
      "cell_type": "code",
      "metadata": {
        "id": "0nrlSf9vNUB7"
      },
      "source": [
        "import tensorflow as tf\n",
        "import keras\n",
        "from keras.layers import Conv2D, MaxPooling2D, Dense, Dropout, BatchNormalization, Flatten, GlobalAveragePooling2D\n",
        "from keras.applications.densenet import DenseNet169, DenseNet121\n",
        "from keras.optimizers import Adam\n",
        "from keras.callbacks import ModelCheckpoint\n",
        "from keras.preprocessing.image import ImageDataGenerator\n",
        "from keras.regularizers import l1, l2, l1_l2\n",
        "import matplotlib.pyplot as plt"
      ],
      "execution_count": 4,
      "outputs": []
    },
    {
      "cell_type": "code",
      "metadata": {
        "id": "ncjDHxaRYpzR"
      },
      "source": [
        "gen = ImageDataGenerator(\n",
        "    rescale = 1/255,\n",
        "    # samplewise_center = True,\n",
        "    # samplewise_std_normalization = True\n",
        ")"
      ],
      "execution_count": 8,
      "outputs": []
    },
    {
      "cell_type": "code",
      "metadata": {
        "colab": {
          "base_uri": "https://localhost:8080/"
        },
        "id": "ZPsB3IBCbjtk",
        "outputId": "45bf68e8-35b4-4172-e107-11ed1fa1eaa9"
      },
      "source": [
        "train_set = gen.flow_from_directory(\n",
        "    \"/content/dataset/split-data/train/\",\n",
        "    target_size = (128,128),\n",
        "    class_mode = 'sparse',\n",
        "    shuffle = True,\n",
        "    seed = 865,\n",
        "    color_mode = 'rgb'\n",
        ")\n"
      ],
      "execution_count": 9,
      "outputs": [
        {
          "output_type": "stream",
          "text": [
            "Found 194266 images belonging to 2 classes.\n"
          ],
          "name": "stdout"
        }
      ]
    },
    {
      "cell_type": "code",
      "metadata": {
        "colab": {
          "base_uri": "https://localhost:8080/"
        },
        "id": "vEdC6tB1bnRy",
        "outputId": "5bbd5292-8f57-4d53-ecc7-cfa2302f8faf"
      },
      "source": [
        "test_set = gen.flow_from_directory(\n",
        "    \"/content/dataset/split-data/test/\",\n",
        "    target_size = (128,128),\n",
        "    class_mode = 'sparse',\n",
        "    shuffle = False,\n",
        "    color_mode = 'rgb'\n",
        ")"
      ],
      "execution_count": 10,
      "outputs": [
        {
          "output_type": "stream",
          "text": [
            "Found 41629 images belonging to 2 classes.\n"
          ],
          "name": "stdout"
        }
      ]
    },
    {
      "cell_type": "code",
      "metadata": {
        "colab": {
          "base_uri": "https://localhost:8080/"
        },
        "id": "6I53PK3Qbo6G",
        "outputId": "ffb60d2e-275d-448e-c6ec-56f1ea3d2fcf"
      },
      "source": [
        "valid_set = gen.flow_from_directory(\n",
        "    \"/content/dataset/split-data/valid/\",\n",
        "    target_size = (128,128),\n",
        "    class_mode = 'sparse',\n",
        "    shuffle = False,\n",
        "    color_mode = 'rgb'\n",
        ")"
      ],
      "execution_count": 20,
      "outputs": [
        {
          "output_type": "stream",
          "text": [
            "Found 41629 images belonging to 2 classes.\n"
          ],
          "name": "stdout"
        }
      ]
    },
    {
      "cell_type": "code",
      "metadata": {
        "id": "63Y-71xbcJpj"
      },
      "source": [
        "def build_model():\n",
        "\n",
        "  densenet = DenseNet121(include_top=False, weights = 'imagenet', input_shape = (128,128,3))\n",
        "  densenet.trainable = True\n",
        "  model = tf.keras.models.Sequential()\n",
        "\n",
        "  model.add(densenet)\n",
        "  model.add(GlobalAveragePooling2D())\n",
        "  \n",
        "  model.add(Dense(512, activation='relu', kernel_regularizer=l1_l2(l1=1e-04, l2=1e-04)))\n",
        "  model.add(Dropout(0.5))\n",
        "  model.add(Dense(512, activation= 'relu', kernel_regularizer=l1_l2(l1 = 1e-05, l2= 1e-05)))\n",
        "  model.add(Dropout(0.5))\n",
        "  model.add(Dense(512, activation='relu', kernel_regularizer=l1_l2(l1=1e-03, l2=1e-03)))\n",
        "  model.add(Dropout(0.5))\n",
        "  model.add(Dense(512, activation='relu', kernel_regularizer=l1_l2(l1 = 1e-02, l2=1e-02)))\n",
        "  model.add(Dense(2, activation='softmax'))\n",
        "  \n",
        "  return model"
      ],
      "execution_count": 21,
      "outputs": []
    },
    {
      "cell_type": "code",
      "metadata": {
        "colab": {
          "base_uri": "https://localhost:8080/"
        },
        "id": "2j_x8aEejLF0",
        "outputId": "a98eb947-ebf8-4f8b-db00-bcc2a54dbb85"
      },
      "source": [
        "model = build_model()\n",
        "model.summary()"
      ],
      "execution_count": 22,
      "outputs": [
        {
          "output_type": "stream",
          "text": [
            "Downloading data from https://storage.googleapis.com/tensorflow/keras-applications/densenet/densenet121_weights_tf_dim_ordering_tf_kernels_notop.h5\n",
            "29089792/29084464 [==============================] - 3s 0us/step\n",
            "Model: \"sequential_1\"\n",
            "_________________________________________________________________\n",
            "Layer (type)                 Output Shape              Param #   \n",
            "=================================================================\n",
            "densenet121 (Functional)     (None, 4, 4, 1024)        7037504   \n",
            "_________________________________________________________________\n",
            "global_average_pooling2d_1 ( (None, 1024)              0         \n",
            "_________________________________________________________________\n",
            "dense_5 (Dense)              (None, 512)               524800    \n",
            "_________________________________________________________________\n",
            "dropout_3 (Dropout)          (None, 512)               0         \n",
            "_________________________________________________________________\n",
            "dense_6 (Dense)              (None, 512)               262656    \n",
            "_________________________________________________________________\n",
            "dropout_4 (Dropout)          (None, 512)               0         \n",
            "_________________________________________________________________\n",
            "dense_7 (Dense)              (None, 512)               262656    \n",
            "_________________________________________________________________\n",
            "dropout_5 (Dropout)          (None, 512)               0         \n",
            "_________________________________________________________________\n",
            "dense_8 (Dense)              (None, 512)               262656    \n",
            "_________________________________________________________________\n",
            "dense_9 (Dense)              (None, 2)                 1026      \n",
            "=================================================================\n",
            "Total params: 8,351,298\n",
            "Trainable params: 8,267,650\n",
            "Non-trainable params: 83,648\n",
            "_________________________________________________________________\n"
          ],
          "name": "stdout"
        }
      ]
    },
    {
      "cell_type": "code",
      "metadata": {
        "id": "Y-o_CqfLdnaa"
      },
      "source": [
        "opt = Adam(lr = 1e-04)\n",
        "\n",
        "model.compile(optimizer=opt, loss = 'sparse_categorical_crossentropy', metrics = ['accuracy'])"
      ],
      "execution_count": 23,
      "outputs": []
    },
    {
      "cell_type": "code",
      "metadata": {
        "colab": {
          "base_uri": "https://localhost:8080/"
        },
        "id": "ASuHX0nGd2hO",
        "outputId": "f0e60551-db4b-48fa-e2d3-91ad11ca10fb"
      },
      "source": [
        "checkpoint = ModelCheckpoint(\"/content/new-gpu-dense169-best.h5\", monitor='val_loss', save_best_only= True, mode='min')\n",
        "checkpoint"
      ],
      "execution_count": 24,
      "outputs": [
        {
          "output_type": "execute_result",
          "data": {
            "text/plain": [
              "<tensorflow.python.keras.callbacks.ModelCheckpoint at 0x7f1b279ed150>"
            ]
          },
          "metadata": {
            "tags": []
          },
          "execution_count": 24
        }
      ]
    },
    {
      "cell_type": "code",
      "metadata": {
        "colab": {
          "base_uri": "https://localhost:8080/"
        },
        "id": "qwWr4dsgfCiO",
        "outputId": "f01cc56e-26e2-44fe-dd0c-b0a031259e60"
      },
      "source": [
        "history = model.fit(train_set, validation_data=valid_set, epochs = 10, callbacks = checkpoint, shuffle = True, batch_size = 128)"
      ],
      "execution_count": null,
      "outputs": [
        {
          "output_type": "stream",
          "text": [
            "Epoch 1/10\n",
            "6071/6071 [==============================] - 1963s 323ms/step - loss: 5.4087 - accuracy: 0.8872 - val_loss: 0.3968 - val_accuracy: 0.8913\n",
            "Epoch 2/10\n",
            "6071/6071 [==============================] - 1957s 322ms/step - loss: 0.3517 - accuracy: 0.9037 - val_loss: 0.3270 - val_accuracy: 0.9004\n",
            "Epoch 3/10\n",
            "6071/6071 [==============================] - 1956s 322ms/step - loss: 0.3104 - accuracy: 0.9130 - val_loss: 0.3389 - val_accuracy: 0.8956\n",
            "Epoch 4/10\n",
            "6071/6071 [==============================] - 1953s 322ms/step - loss: 0.2842 - accuracy: 0.9212 - val_loss: 0.3016 - val_accuracy: 0.9072\n",
            "Epoch 5/10\n",
            "6071/6071 [==============================] - 1955s 322ms/step - loss: 0.2589 - accuracy: 0.9302 - val_loss: 0.3445 - val_accuracy: 0.8995\n",
            "Epoch 6/10\n",
            " 145/6071 [..............................] - ETA: 29:53 - loss: 0.2145 - accuracy: 0.9468"
          ],
          "name": "stdout"
        }
      ]
    },
    {
      "cell_type": "code",
      "metadata": {
        "id": "I4KuF8F3faxa"
      },
      "source": [
        "model.save(\"/content/drive/MyDrive/final_model_90-densenet.h5\")"
      ],
      "execution_count": null,
      "outputs": []
    },
    {
      "cell_type": "code",
      "metadata": {
        "id": "pPTCxJRvJIjQ"
      },
      "source": [
        "plt.plot(history.history['accuracy'])\n",
        "plt.plot(history.history['val_accuracy'])\n",
        "plt.title(\"Accuracy Graph\")"
      ],
      "execution_count": null,
      "outputs": []
    },
    {
      "cell_type": "code",
      "metadata": {
        "id": "fS7Uh8ncJRWW"
      },
      "source": [
        "plt.plot(history.history['loss'])\n",
        "plt.plot(history.history['val_loss'])\n",
        "plt.plot(\"Loss Graph\")"
      ],
      "execution_count": null,
      "outputs": []
    },
    {
      "cell_type": "code",
      "metadata": {
        "id": "OffWuXkwKR-H"
      },
      "source": [
        "model.evaluate(test_set)"
      ],
      "execution_count": null,
      "outputs": []
    },
    {
      "cell_type": "code",
      "metadata": {
        "id": "B7nTv1s0KVGK"
      },
      "source": [
        ""
      ],
      "execution_count": null,
      "outputs": []
    }
  ]
}