{
  "nbformat": 4,
  "nbformat_minor": 0,
  "metadata": {
    "colab": {
      "name": "resnet.ipynb",
      "provenance": [],
      "collapsed_sections": [],
      "mount_file_id": "1hicBwf67Ujt8IPW775jH1uFhbuXEnOK7",
      "authorship_tag": "ABX9TyOh1NfYtTFs7rlwhUeeT1RL",
      "include_colab_link": true
    },
    "kernelspec": {
      "name": "python3",
      "display_name": "Python 3"
    },
    "language_info": {
      "name": "python"
    },
    "accelerator": "GPU"
  },
  "cells": [
    {
      "cell_type": "markdown",
      "metadata": {
        "id": "view-in-github",
        "colab_type": "text"
      },
      "source": [
        "<a href=\"https://colab.research.google.com/github/prateekrao/Breast-Cancer-Detection/blob/main/model-87%25-new.ipynb\" target=\"_parent\"><img src=\"https://colab.research.google.com/assets/colab-badge.svg\" alt=\"Open In Colab\"/></a>"
      ]
    },
    {
      "cell_type": "code",
      "metadata": {
        "id": "YGKCHJAxQvZB"
      },
      "source": [
        "!unzip \"/content/drive/MyDrive/split-data.zip\""
      ],
      "execution_count": null,
      "outputs": []
    },
    {
      "cell_type": "code",
      "metadata": {
        "id": "De7a3UqCUixI"
      },
      "source": [
        "import tensorflow as tf\n",
        "import keras\n",
        "from keras.layers import Conv2D, MaxPooling2D, Dense, Dropout, BatchNormalization, Flatten, GlobalAveragePooling2D\n",
        "from keras.applications import ResNet50\n",
        "from keras.optimizers import Adam\n",
        "from keras.callbacks import ModelCheckpoint\n",
        "from keras.preprocessing.image import ImageDataGenerator\n",
        "from keras.regularizers import l1, l2, l1_l2\n",
        "import matplotlib.pyplot as plt\n"
      ],
      "execution_count": 32,
      "outputs": []
    },
    {
      "cell_type": "code",
      "metadata": {
        "id": "4V0jcLPfaHEG"
      },
      "source": [
        "gen = ImageDataGenerator(\n",
        "    rescale = 1/255\n",
        ")"
      ],
      "execution_count": 4,
      "outputs": []
    },
    {
      "cell_type": "code",
      "metadata": {
        "colab": {
          "base_uri": "https://localhost:8080/"
        },
        "id": "eLUyWkcraQMH",
        "outputId": "6d98ccc6-625f-4c9c-e0ca-d112d9acdcad"
      },
      "source": [
        "train_set = gen.flow_from_directory(\n",
        "    directory = \"/content/split-data/train\",\n",
        "    class_mode = 'sparse',\n",
        "    color_mode = 'rgb',\n",
        "    target_size = (128,128),\n",
        "    shuffle = True,\n",
        ")"
      ],
      "execution_count": 39,
      "outputs": [
        {
          "output_type": "stream",
          "text": [
            "Found 194266 images belonging to 2 classes.\n"
          ],
          "name": "stdout"
        }
      ]
    },
    {
      "cell_type": "code",
      "metadata": {
        "colab": {
          "base_uri": "https://localhost:8080/"
        },
        "id": "MbH5FmS_alWa",
        "outputId": "e9bb90a2-0e8f-49ea-8b00-b96b9c5a9b1f"
      },
      "source": [
        "test_set = gen.flow_from_directory(\n",
        "    directory = \"/content/split-data/test\",\n",
        "    target_size = (128,128),\n",
        "    color_mode = 'rgb',\n",
        "    class_mode = 'sparse',\n",
        "    shuffle = False\n",
        ")"
      ],
      "execution_count": 40,
      "outputs": [
        {
          "output_type": "stream",
          "text": [
            "Found 41629 images belonging to 2 classes.\n"
          ],
          "name": "stdout"
        }
      ]
    },
    {
      "cell_type": "code",
      "metadata": {
        "colab": {
          "base_uri": "https://localhost:8080/"
        },
        "id": "_PsTltoDa14P",
        "outputId": "0849f378-25e0-418c-9390-0fd3aa6392b3"
      },
      "source": [
        "validation_set = gen.flow_from_directory(\n",
        "    directory = '/content/split-data/valid',\n",
        "    target_size = (128,128),\n",
        "    color_mode = 'rgb',\n",
        "    class_mode = 'sparse',\n",
        "    shuffle = False\n",
        ")"
      ],
      "execution_count": 41,
      "outputs": [
        {
          "output_type": "stream",
          "text": [
            "Found 41629 images belonging to 2 classes.\n"
          ],
          "name": "stdout"
        }
      ]
    },
    {
      "cell_type": "code",
      "metadata": {
        "id": "jfSd_ER_bFBc"
      },
      "source": [
        "model = tf.keras.models.Sequential()\n",
        "\n",
        "model.add(Conv2D(32, (3,3),  activation='relu', input_shape=(128,128,3)))\n",
        "model.add(Conv2D(64, (3,3), activation= 'relu'))\n",
        "model.add(MaxPooling2D((2,2)))\n",
        "\n",
        "model.add(Conv2D(128, (3,3),  activation='relu'))\n",
        "model.add(Conv2D(256, (3,3), activation='relu'))\n",
        "model.add(MaxPooling2D((2,2)))\n",
        "\n",
        "model.add(Conv2D(512, (3,3), activation='relu'))\n",
        "model.add(Conv2D(1024, (3,3), activation='relu'))\n",
        "model.add(MaxPooling2D(2,2))\n",
        "\n",
        "model.add(Conv2D(1024, (3,3), activation='relu'))\n",
        "model.add(Conv2D(512, (3,3), activation='relu'))\n",
        "model.add(MaxPooling2D(2,2))\n",
        "\n",
        "model.add(GlobalAveragePooling2D())\n",
        "\n",
        "model.add(Dense(512, activation='relu', kernel_regularizer=l1(0.00001)))\n",
        "model.add(Dropout(0.5))\n",
        "model.add(Dense(512, activation= 'relu', kernel_regularizer=l2(0.00001)))\n",
        "model.add(Dropout(0.5))\n",
        "model.add(Dense(512, activation='relu', kernel_regularizer=l1_l2(0.00001)))\n",
        "model.add(Dropout(0.5))\n",
        "model.add(Dense(512, activation='relu', kernel_regularizer=l1_l2(0.0001)))\n",
        "model.add(Dense(2, activation='softmax'))"
      ],
      "execution_count": 44,
      "outputs": []
    },
    {
      "cell_type": "code",
      "metadata": {
        "colab": {
          "base_uri": "https://localhost:8080/"
        },
        "id": "pxC41gPx6s1t",
        "outputId": "b0bbefa5-27b9-48c5-9313-594be52b9d55"
      },
      "source": [
        "model.summary()"
      ],
      "execution_count": 45,
      "outputs": [
        {
          "output_type": "stream",
          "text": [
            "Model: \"sequential_8\"\n",
            "_________________________________________________________________\n",
            "Layer (type)                 Output Shape              Param #   \n",
            "=================================================================\n",
            "conv2d_21 (Conv2D)           (None, 126, 126, 32)      896       \n",
            "_________________________________________________________________\n",
            "conv2d_22 (Conv2D)           (None, 124, 124, 64)      18496     \n",
            "_________________________________________________________________\n",
            "max_pooling2d_10 (MaxPooling (None, 62, 62, 64)        0         \n",
            "_________________________________________________________________\n",
            "conv2d_23 (Conv2D)           (None, 60, 60, 128)       73856     \n",
            "_________________________________________________________________\n",
            "conv2d_24 (Conv2D)           (None, 58, 58, 256)       295168    \n",
            "_________________________________________________________________\n",
            "max_pooling2d_11 (MaxPooling (None, 29, 29, 256)       0         \n",
            "_________________________________________________________________\n",
            "conv2d_25 (Conv2D)           (None, 27, 27, 512)       1180160   \n",
            "_________________________________________________________________\n",
            "conv2d_26 (Conv2D)           (None, 25, 25, 1024)      4719616   \n",
            "_________________________________________________________________\n",
            "max_pooling2d_12 (MaxPooling (None, 12, 12, 1024)      0         \n",
            "_________________________________________________________________\n",
            "conv2d_27 (Conv2D)           (None, 10, 10, 1024)      9438208   \n",
            "_________________________________________________________________\n",
            "conv2d_28 (Conv2D)           (None, 8, 8, 512)         4719104   \n",
            "_________________________________________________________________\n",
            "max_pooling2d_13 (MaxPooling (None, 4, 4, 512)         0         \n",
            "_________________________________________________________________\n",
            "global_average_pooling2d_5 ( (None, 512)               0         \n",
            "_________________________________________________________________\n",
            "dense_20 (Dense)             (None, 512)               262656    \n",
            "_________________________________________________________________\n",
            "dropout_12 (Dropout)         (None, 512)               0         \n",
            "_________________________________________________________________\n",
            "dense_21 (Dense)             (None, 512)               262656    \n",
            "_________________________________________________________________\n",
            "dropout_13 (Dropout)         (None, 512)               0         \n",
            "_________________________________________________________________\n",
            "dense_22 (Dense)             (None, 512)               262656    \n",
            "_________________________________________________________________\n",
            "dropout_14 (Dropout)         (None, 512)               0         \n",
            "_________________________________________________________________\n",
            "dense_23 (Dense)             (None, 512)               262656    \n",
            "_________________________________________________________________\n",
            "dense_24 (Dense)             (None, 2)                 1026      \n",
            "=================================================================\n",
            "Total params: 21,497,154\n",
            "Trainable params: 21,497,154\n",
            "Non-trainable params: 0\n",
            "_________________________________________________________________\n"
          ],
          "name": "stdout"
        }
      ]
    },
    {
      "cell_type": "code",
      "metadata": {
        "id": "wervG6hmdWD1"
      },
      "source": [
        "opt = Adam(lr = 1e-05)\n",
        "\n",
        "model.compile(optimizer=opt, loss = 'sparse_categorical_crossentropy', metrics = ['accuracy'])"
      ],
      "execution_count": 46,
      "outputs": []
    },
    {
      "cell_type": "code",
      "metadata": {
        "colab": {
          "base_uri": "https://localhost:8080/"
        },
        "id": "MWktFnn-hkz2",
        "outputId": "14766709-f4f5-497c-dc20-a511424dcafa"
      },
      "source": [
        "history = model.fit(train_set, validation_data=validation_set, batch_size = 128, epochs = 10, shuffle = True)"
      ],
      "execution_count": 47,
      "outputs": [
        {
          "output_type": "stream",
          "text": [
            "Epoch 1/10\n",
            "6071/6071 [==============================] - 623s 102ms/step - loss: 8.2382 - accuracy: 0.7844 - val_loss: 2.1735 - val_accuracy: 0.8257\n",
            "Epoch 2/10\n",
            "6071/6071 [==============================] - 617s 102ms/step - loss: 1.5798 - accuracy: 0.8301 - val_loss: 0.7057 - val_accuracy: 0.8397\n",
            "Epoch 3/10\n",
            "6071/6071 [==============================] - 616s 102ms/step - loss: 0.6374 - accuracy: 0.8414 - val_loss: 0.4835 - val_accuracy: 0.8514\n",
            "Epoch 4/10\n",
            "6071/6071 [==============================] - 616s 101ms/step - loss: 0.4761 - accuracy: 0.8466 - val_loss: 0.4326 - val_accuracy: 0.8475\n",
            "Epoch 5/10\n",
            "6071/6071 [==============================] - 616s 102ms/step - loss: 0.4144 - accuracy: 0.8564 - val_loss: 0.3806 - val_accuracy: 0.8619\n",
            "Epoch 6/10\n",
            "6071/6071 [==============================] - 617s 102ms/step - loss: 0.3872 - accuracy: 0.8591 - val_loss: 0.3649 - val_accuracy: 0.8663\n",
            "Epoch 7/10\n",
            "6071/6071 [==============================] - 617s 102ms/step - loss: 0.3687 - accuracy: 0.8640 - val_loss: 0.3609 - val_accuracy: 0.8625\n",
            "Epoch 8/10\n",
            "6071/6071 [==============================] - 616s 102ms/step - loss: 0.3591 - accuracy: 0.8659 - val_loss: 0.3471 - val_accuracy: 0.8723\n",
            "Epoch 9/10\n",
            "6071/6071 [==============================] - 618s 102ms/step - loss: 0.3495 - accuracy: 0.8696 - val_loss: 0.3529 - val_accuracy: 0.8688\n",
            "Epoch 10/10\n",
            "6071/6071 [==============================] - 619s 102ms/step - loss: 0.3431 - accuracy: 0.8724 - val_loss: 0.3311 - val_accuracy: 0.8753\n"
          ],
          "name": "stdout"
        }
      ]
    },
    {
      "cell_type": "code",
      "metadata": {
        "colab": {
          "base_uri": "https://localhost:8080/"
        },
        "id": "NhA-gYRahxtx",
        "outputId": "453deb8c-c57f-442f-a2f5-402eb4769a59"
      },
      "source": [
        "model.evaluate(test_set)"
      ],
      "execution_count": 48,
      "outputs": [
        {
          "output_type": "stream",
          "text": [
            "1301/1301 [==============================] - 40s 31ms/step - loss: 0.3341 - accuracy: 0.8735\n"
          ],
          "name": "stdout"
        },
        {
          "output_type": "execute_result",
          "data": {
            "text/plain": [
              "[0.334098756313324, 0.8734536170959473]"
            ]
          },
          "metadata": {
            "tags": []
          },
          "execution_count": 48
        }
      ]
    },
    {
      "cell_type": "code",
      "metadata": {
        "colab": {
          "base_uri": "https://localhost:8080/",
          "height": 312
        },
        "id": "7xHRXpei4tKs",
        "outputId": "9cb57d4d-0aab-4929-eec3-e1f043d47fce"
      },
      "source": [
        "plt.plot(history.history['accuracy'], label=\"Accuracy\")\n",
        "plt.plot(history.history['val_accuracy'], label=\"Validation Accuracy\")\n",
        "\n",
        "plt.ylabel(\"Accuracy/Loss\")\n",
        "plt.xlabel(\"Epochs\")\n",
        "plt.title(\"Plot\")\n",
        "plt.legend(\"upper left\")"
      ],
      "execution_count": 49,
      "outputs": [
        {
          "output_type": "execute_result",
          "data": {
            "text/plain": [
              "<matplotlib.legend.Legend at 0x7f91ac27fc10>"
            ]
          },
          "metadata": {
            "tags": []
          },
          "execution_count": 49
        },
        {
          "output_type": "display_data",
          "data": {
            "image/png": "[encoded data removed]",
            "text/plain": [
              "<Figure size 432x288 with 1 Axes>"
            ]
          },
          "metadata": {
            "tags": [],
            "needs_background": "light"
          }
        }
      ]
    },
    {
      "cell_type": "code",
      "metadata": {
        "colab": {
          "base_uri": "https://localhost:8080/",
          "height": 282
        },
        "id": "1Me0TKT45o-h",
        "outputId": "8838c76a-cbd0-4f64-baa0-ac0c27aff948"
      },
      "source": [
        "plt.plot(history.history['loss'], label= \"Loss\")\n",
        "plt.plot(history.history['val_loss'], label=\"Validation Loss\")\n"
      ],
      "execution_count": 50,
      "outputs": [
        {
          "output_type": "execute_result",
          "data": {
            "text/plain": [
              "[<matplotlib.lines.Line2D at 0x7f91ac1f9e10>]"
            ]
          },
          "metadata": {
            "tags": []
          },
          "execution_count": 50
        },
        {
          "output_type": "display_data",
          "data": {
            "image/png": "[encoded data removed]",
            "text/plain": [
              "<Figure size 432x288 with 1 Axes>"
            ]
          },
          "metadata": {
            "tags": [],
            "needs_background": "light"
          }
        }
      ]
    },
    {
      "cell_type": "code",
      "metadata": {
        "id": "k6Erf7ve6JaG"
      },
      "source": [
        "model.save(\"/content/drive/MyDrive/new-model-87.h5\")"
      ],
      "execution_count": 51,
      "outputs": []
    },
    {
      "cell_type": "code",
      "metadata": {
        "id": "S4DfvKiCXtxJ"
      },
      "source": [
        ""
      ],
      "execution_count": null,
      "outputs": []
    },
    {
      "cell_type": "code",
      "metadata": {
        "id": "P0M0OrRV6XsD"
      },
      "source": [
        ""
      ],
      "execution_count": null,
      "outputs": []
    }
  ]
}