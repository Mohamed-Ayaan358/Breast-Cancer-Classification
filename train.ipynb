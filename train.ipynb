{
  "nbformat": 4,
  "nbformat_minor": 0,
  "metadata": {
    "colab": {
      "name": "train.ipynb",
      "provenance": [],
      "include_colab_link": true
    },
    "kernelspec": {
      "name": "python3",
      "display_name": "Python 3"
    },
    "language_info": {
      "name": "python"
    },
    "accelerator": "GPU"
  },
  "cells": [
    {
      "cell_type": "markdown",
      "metadata": {
        "id": "view-in-github",
        "colab_type": "text"
      },
      "source": [
        "<a href=\"https://colab.research.google.com/github/prateekrao/Breast-Cancer-Classification/blob/main/train.ipynb\" target=\"_parent\"><img src=\"https://colab.research.google.com/assets/colab-badge.svg\" alt=\"Open In Colab\"/></a>"
      ]
    },
    {
      "cell_type": "markdown",
      "metadata": {
        "id": "1WrRXVevEU3V"
      },
      "source": [
        "# **BREAST CANCER CLASSIFICATION**"
      ]
    },
    {
      "cell_type": "markdown",
      "metadata": {
        "id": "sCiqMQFKEqZd"
      },
      "source": [
        "## **Unzipping the dataset**"
      ]
    },
    {
      "cell_type": "code",
      "metadata": {
        "colab": {
          "base_uri": "https://localhost:8080/"
        },
        "id": "GOBAYNnerq4X",
        "outputId": "63a5873b-8bab-47f1-fca8-1bd0c69f8b98"
      },
      "source": [
        "from google.colab import drive\n",
        "drive.mount('/content/drive')"
      ],
      "execution_count": null,
      "outputs": [
        {
          "output_type": "stream",
          "text": [
            "Mounted at /content/drive\n"
          ],
          "name": "stdout"
        }
      ]
    },
    {
      "cell_type": "code",
      "metadata": {
        "id": "ULP5EafhEu1P"
      },
      "source": [
        "!unzip \"/content/drive/MyDrive/split-data.zip\""
      ],
      "execution_count": null,
      "outputs": []
    },
    {
      "cell_type": "markdown",
      "metadata": {
        "id": "zw5y5jhaFBi0"
      },
      "source": [
        "## **Importing required libraries**"
      ]
    },
    {
      "cell_type": "code",
      "metadata": {
        "id": "Gl6-FcZ4FFWn"
      },
      "source": [
        "import tensorflow as tf\n",
        "import keras\n",
        "from tensorflow.keras.layers import Dense, GlobalAveragePooling2D, Dropout\n",
        "from tensorflow.keras.applications import ResNet50V2\n",
        "from tensorflow.keras.callbacks import ModelCheckpoint, EarlyStopping\n",
        "from tensorflow.keras.preprocessing.image import ImageDataGenerator\n",
        "from tensorflow.keras.optimizers import Adam\n",
        "from tensorflow.keras.regularizers import l1, l2, l1_l2\n",
        "import matplotlib.pyplot as plt\n",
        "import os\n",
        "from sklearn.metrics import confusion_matrix\n",
        "import itertools\n",
        "import numpy as np"
      ],
      "execution_count": null,
      "outputs": []
    },
    {
      "cell_type": "markdown",
      "metadata": {
        "id": "2-2MYLrJFlbs"
      },
      "source": [
        "## **Preparing Image Dataset**"
      ]
    },
    {
      "cell_type": "markdown",
      "metadata": {
        "id": "6Wg7WxS6pt8X"
      },
      "source": [
        "* Using image data generator to rescale and normalize the images.\n",
        "* Images are of size 50x50"
      ]
    },
    {
      "cell_type": "code",
      "metadata": {
        "id": "t_p3Fe0aGBnQ"
      },
      "source": [
        "gen = ImageDataGenerator(\n",
        "    rescale = 1/255\n",
        ")"
      ],
      "execution_count": null,
      "outputs": []
    },
    {
      "cell_type": "code",
      "metadata": {
        "id": "a66IV0YwGEAX"
      },
      "source": [
        "# Defining the path\n",
        "BASE_PATH = \"/content/split-data\""
      ],
      "execution_count": null,
      "outputs": []
    },
    {
      "cell_type": "code",
      "metadata": {
        "colab": {
          "base_uri": "https://localhost:8080/"
        },
        "id": "ZHcH7aFKGK80",
        "outputId": "c65faec9-a35c-4819-ad8c-8d87d3c8dfe4"
      },
      "source": [
        "train_set = gen.flow_from_directory(\n",
        "    directory = os.path.join(BASE_PATH, 'train'),\n",
        "    target_size = (50,50),\n",
        "    class_mode = 'sparse',\n",
        "    shuffle = True,\n",
        "    color_mode = 'rgb'\n",
        ")"
      ],
      "execution_count": null,
      "outputs": [
        {
          "output_type": "stream",
          "text": [
            "Found 194266 images belonging to 2 classes.\n"
          ],
          "name": "stdout"
        }
      ]
    },
    {
      "cell_type": "code",
      "metadata": {
        "colab": {
          "base_uri": "https://localhost:8080/"
        },
        "id": "CPMtdSfRGnJq",
        "outputId": "a2a981a5-5518-46f9-f1cc-43e1295b748f"
      },
      "source": [
        "test_set = gen.flow_from_directory(\n",
        "    directory = os.path.join(BASE_PATH, 'test'),\n",
        "    target_size = (50,50),\n",
        "    class_mode = 'sparse',\n",
        "    shuffle = False,\n",
        "    color_mode = 'rgb'\n",
        ")"
      ],
      "execution_count": null,
      "outputs": [
        {
          "output_type": "stream",
          "text": [
            "Found 41629 images belonging to 2 classes.\n"
          ],
          "name": "stdout"
        }
      ]
    },
    {
      "cell_type": "code",
      "metadata": {
        "colab": {
          "base_uri": "https://localhost:8080/"
        },
        "id": "kKeAYVnIG6Xb",
        "outputId": "708b23ae-1e80-4947-cc4e-967d0e279906"
      },
      "source": [
        "validation_set = gen.flow_from_directory(\n",
        "    directory = os.path.join(BASE_PATH, 'valid'),\n",
        "    target_size= (50,50),\n",
        "    class_mode = 'sparse',\n",
        "    color_mode = 'rgb',\n",
        "    shuffle = True\n",
        ")"
      ],
      "execution_count": null,
      "outputs": [
        {
          "output_type": "stream",
          "text": [
            "Found 41629 images belonging to 2 classes.\n"
          ],
          "name": "stdout"
        }
      ]
    },
    {
      "cell_type": "markdown",
      "metadata": {
        "id": "0bv9cDSkHHs1"
      },
      "source": [
        "## **Building the model**"
      ]
    },
    {
      "cell_type": "markdown",
      "metadata": {
        "id": "GN2q4LYsHfzA"
      },
      "source": [
        "### **Importing the Pre-trained Architecture**"
      ]
    },
    {
      "cell_type": "markdown",
      "metadata": {
        "id": "omMDhD7-qBmL"
      },
      "source": [
        "* Architecure used is ResNet50V2. \n",
        "* First time training using imagenet weights"
      ]
    },
    {
      "cell_type": "code",
      "metadata": {
        "id": "LsNIgHlGHt1y",
        "colab": {
          "base_uri": "https://localhost:8080/"
        },
        "outputId": "a76e5511-b033-4f94-b306-f9f8b1ac491f"
      },
      "source": [
        "resnet = ResNet50V2(include_top = False, weights = 'imagenet', input_shape = (50,50,3))"
      ],
      "execution_count": null,
      "outputs": [
        {
          "output_type": "stream",
          "text": [
            "Downloading data from https://storage.googleapis.com/tensorflow/keras-applications/resnet/resnet50v2_weights_tf_dim_ordering_tf_kernels_notop.h5\n",
            "94674944/94668760 [==============================] - 1s 0us/step\n"
          ],
          "name": "stdout"
        }
      ]
    },
    {
      "cell_type": "markdown",
      "metadata": {
        "id": "REJSODHBH3Kw"
      },
      "source": [
        "Freezing all the layers of the pretrained model, so that the weights don't update"
      ]
    },
    {
      "cell_type": "code",
      "metadata": {
        "id": "rPd1shcCH579"
      },
      "source": [
        "resnet.trainable = False"
      ],
      "execution_count": null,
      "outputs": []
    },
    {
      "cell_type": "markdown",
      "metadata": {
        "id": "kYMPqBjCH7jD"
      },
      "source": [
        "### **Function to create the structure of the model**"
      ]
    },
    {
      "cell_type": "markdown",
      "metadata": {
        "id": "7IVQ3WCMqSui"
      },
      "source": [
        "* Using regularizer to prevent overfitting"
      ]
    },
    {
      "cell_type": "code",
      "metadata": {
        "id": "xaHic2hLIMYs"
      },
      "source": [
        "def create_model():\n",
        "  \n",
        "  model = tf.keras.Sequential()\n",
        "\n",
        "  model.add(resnet)\n",
        "  model.add(GlobalAveragePooling2D())\n",
        "\n",
        "  model.add(Dense(512, activation='relu', kernel_regularizer=l1(l1=0.01)))\n",
        "  model.add(Dropout(0.5))\n",
        "  model.add(Dense(512, activation= 'relu', kernel_regularizer=l2(l2=0.01)))\n",
        "  model.add(Dense(2, activation='softmax'))\n",
        "\n",
        "  return model"
      ],
      "execution_count": null,
      "outputs": []
    },
    {
      "cell_type": "markdown",
      "metadata": {
        "id": "nCf5Mg3uI7RX"
      },
      "source": [
        "## **Creating the model**"
      ]
    },
    {
      "cell_type": "code",
      "metadata": {
        "id": "H_uCPm9YJVZk"
      },
      "source": [
        "model = create_model()"
      ],
      "execution_count": null,
      "outputs": []
    },
    {
      "cell_type": "code",
      "metadata": {
        "colab": {
          "base_uri": "https://localhost:8080/",
          "height": 478
        },
        "id": "qZU3xah8JXe6",
        "outputId": "5d690da8-e6dd-447c-a279-3cf83bd0789a"
      },
      "source": [
        "tf.keras.utils.plot_model(\n",
        "            model,\n",
        "            to_file=\"model.png\",\n",
        "            show_shapes=True,\n",
        "            show_dtype=True,\n",
        "            show_layer_names=True,\n",
        "            expand_nested=False,\n",
        "            rankdir='TB',\n",
        "            dpi=60\n",
        ")"
      ],
      "execution_count": null,
      "outputs": [
        {
          "output_type": "execute_result",
          "data": {
            "image/png": "[encoded data removed]",
            "text/plain": [
              "<IPython.core.display.Image object>"
            ]
          },
          "metadata": {
            "tags": []
          },
          "execution_count": 13
        }
      ]
    },
    {
      "cell_type": "markdown",
      "metadata": {
        "id": "uFnCWINOqdav"
      },
      "source": [
        "* Optimizer used is *Adam*, with a learning rate of (0.001)\n",
        "* Loss function used is *SparseCategoricalCrossentropy*"
      ]
    },
    {
      "cell_type": "code",
      "metadata": {
        "id": "kNj72FmTLU37"
      },
      "source": [
        "model.compile(optimizer = Adam(lr=1e-03), loss= 'sparse_categorical_crossentropy', metrics = ['accuracy'])"
      ],
      "execution_count": null,
      "outputs": []
    },
    {
      "cell_type": "markdown",
      "metadata": {
        "id": "lU6a4SBYqqQN"
      },
      "source": [
        "* Using `keras.callbacks` to create checkpoint, for *early stopping*, incase the validation accuracy doesn't improve too much"
      ]
    },
    {
      "cell_type": "code",
      "metadata": {
        "id": "y6BbrqkfM1F_"
      },
      "source": [
        "early = EarlyStopping(\n",
        "    monitor = 'val_accuracy',\n",
        "    patience = 5,\n",
        "    mode = 'max',\n",
        "    min_delta = 0.005,\n",
        "    verbose =1\n",
        ")"
      ],
      "execution_count": null,
      "outputs": []
    },
    {
      "cell_type": "markdown",
      "metadata": {
        "id": "9P_hQ1NKL70f"
      },
      "source": [
        "## **Training the Model**"
      ]
    },
    {
      "cell_type": "markdown",
      "metadata": {
        "id": "TbGPEEBzrA9E"
      },
      "source": [
        "* Fitting the model to the dataset"
      ]
    },
    {
      "cell_type": "code",
      "metadata": {
        "colab": {
          "base_uri": "https://localhost:8080/"
        },
        "id": "hzV0uCgzMBs7",
        "outputId": "ceec0682-ead0-4354-9206-541f3ac0c6b1"
      },
      "source": [
        "history = model.fit(train_set, validation_data=validation_set, callbacks = early, epochs = 13, shuffle = True)"
      ],
      "execution_count": null,
      "outputs": [
        {
          "output_type": "stream",
          "text": [
            "Epoch 1/13\n",
            "6071/6071 [==============================] - 142s 23ms/step - loss: 1.8427 - accuracy: 0.7605 - val_loss: 1.7295 - val_accuracy: 0.7864\n",
            "Epoch 2/13\n",
            "6071/6071 [==============================] - 138s 23ms/step - loss: 1.7883 - accuracy: 0.7629 - val_loss: 1.5660 - val_accuracy: 0.7845\n",
            "Epoch 3/13\n",
            "6071/6071 [==============================] - 138s 23ms/step - loss: 1.7857 - accuracy: 0.7622 - val_loss: 1.9953 - val_accuracy: 0.7657\n",
            "Epoch 4/13\n",
            "6071/6071 [==============================] - 138s 23ms/step - loss: 1.7922 - accuracy: 0.7631 - val_loss: 1.9639 - val_accuracy: 0.7857\n",
            "Epoch 5/13\n",
            "6071/6071 [==============================] - 138s 23ms/step - loss: 1.7933 - accuracy: 0.7614 - val_loss: 1.5916 - val_accuracy: 0.7745\n",
            "Epoch 6/13\n",
            "6071/6071 [==============================] - 138s 23ms/step - loss: 1.7883 - accuracy: 0.7607 - val_loss: 1.7813 - val_accuracy: 0.7772\n",
            "Epoch 00006: early stopping\n"
          ],
          "name": "stdout"
        }
      ]
    },
    {
      "cell_type": "markdown",
      "metadata": {
        "id": "8SHrvtXDN3V6"
      },
      "source": [
        "## **Fine-Tuning the model**"
      ]
    },
    {
      "cell_type": "markdown",
      "metadata": {
        "id": "aYkVxnMsK09S"
      },
      "source": [
        "> Un-freezing the layers of ResNet, so that weights can update, for finetuning"
      ]
    },
    {
      "cell_type": "code",
      "metadata": {
        "id": "ATbpUAXFLECw"
      },
      "source": [
        "resnet.trainable = True"
      ],
      "execution_count": null,
      "outputs": []
    },
    {
      "cell_type": "markdown",
      "metadata": {
        "id": "uB_ks6pxLFty"
      },
      "source": [
        "> Recompiling the model"
      ]
    },
    {
      "cell_type": "code",
      "metadata": {
        "id": "VgRW2kWlLKk4"
      },
      "source": [
        "model.compile(optimizer = Adam(lr=1e-05), loss= 'sparse_categorical_crossentropy', metrics = ['accuracy'])"
      ],
      "execution_count": null,
      "outputs": []
    },
    {
      "cell_type": "markdown",
      "metadata": {
        "id": "ikIepy7OLOgx"
      },
      "source": [
        "## **Re-Training the Model**"
      ]
    },
    {
      "cell_type": "markdown",
      "metadata": {
        "id": "TQ6eSHlXrNtw"
      },
      "source": [
        "* Creating a model checkpoint, using `keras.callbacks`, to monitor the validation accuracy and to save only the best model in the HDF5 Format"
      ]
    },
    {
      "cell_type": "code",
      "metadata": {
        "id": "MSptMV0VL_Zz"
      },
      "source": [
        "checkpoint = ModelCheckpoint(\n",
        "    \"/content/drive/MyDrive/cancer-retrain.h5\",\n",
        "    save_best_only = True,\n",
        "    monitor = 'val_accuracy',\n",
        "    mode = 'max',\n",
        "    verbose = 1\n",
        ")"
      ],
      "execution_count": null,
      "outputs": []
    },
    {
      "cell_type": "code",
      "metadata": {
        "colab": {
          "base_uri": "https://localhost:8080/"
        },
        "id": "19ohc7hSLRxL",
        "outputId": "c8f7ec1b-5d30-4f5f-c8e6-960e652e9d55"
      },
      "source": [
        "history = model.fit(train_set, validation_data = validation_set, epochs = 7, callbacks= checkpoint, shuffle = True)"
      ],
      "execution_count": null,
      "outputs": [
        {
          "output_type": "stream",
          "text": [
            "Epoch 1/7\n",
            "6071/6071 [==============================] - 378s 61ms/step - loss: 0.5534 - accuracy: 0.8099 - val_loss: 0.3822 - val_accuracy: 0.8687\n",
            "\n",
            "Epoch 00001: val_accuracy improved from -inf to 0.86870, saving model to /content/drive/MyDrive/cancer-retrain.h5\n",
            "Epoch 2/7\n",
            "6071/6071 [==============================] - 373s 61ms/step - loss: 0.4044 - accuracy: 0.8527 - val_loss: 0.3472 - val_accuracy: 0.8803\n",
            "\n",
            "Epoch 00002: val_accuracy improved from 0.86870 to 0.88025, saving model to /content/drive/MyDrive/cancer-retrain.h5\n",
            "Epoch 3/7\n",
            "6071/6071 [==============================] - 373s 61ms/step - loss: 0.3672 - accuracy: 0.8700 - val_loss: 0.3379 - val_accuracy: 0.8814\n",
            "\n",
            "Epoch 00003: val_accuracy improved from 0.88025 to 0.88140, saving model to /content/drive/MyDrive/cancer-retrain.h5\n",
            "Epoch 4/7\n",
            "6071/6071 [==============================] - 371s 61ms/step - loss: 0.3402 - accuracy: 0.8842 - val_loss: 0.3368 - val_accuracy: 0.8811\n",
            "\n",
            "Epoch 00004: val_accuracy did not improve from 0.88140\n",
            "Epoch 5/7\n",
            "6071/6071 [==============================] - 370s 61ms/step - loss: 0.3101 - accuracy: 0.9008 - val_loss: 0.3478 - val_accuracy: 0.8756\n",
            "\n",
            "Epoch 00005: val_accuracy did not improve from 0.88140\n",
            "Epoch 6/7\n",
            "6071/6071 [==============================] - 372s 61ms/step - loss: 0.2844 - accuracy: 0.9140 - val_loss: 0.3597 - val_accuracy: 0.8770\n",
            "\n",
            "Epoch 00006: val_accuracy did not improve from 0.88140\n",
            "Epoch 7/7\n",
            "6071/6071 [==============================] - 370s 61ms/step - loss: 0.2608 - accuracy: 0.9262 - val_loss: 0.3764 - val_accuracy: 0.8681\n",
            "\n",
            "Epoch 00007: val_accuracy did not improve from 0.88140\n"
          ],
          "name": "stdout"
        }
      ]
    },
    {
      "cell_type": "code",
      "metadata": {
        "colab": {
          "base_uri": "https://localhost:8080/",
          "height": 300
        },
        "id": "VSd3Zb7NL8s-",
        "outputId": "373940c6-afe6-47c8-98e2-32f8c42d731b"
      },
      "source": [
        "plt.plot(history.history['loss'], label = 'Loss', linestyle='dashed', color= 'gold', linewidth=2)\n",
        "plt.plot(history.history['val_loss'], label = 'Validation Loss', linestyle = ':', color = 'deepskyblue', linewidth = 2)\n",
        "plt.xlabel('Epochs')\n",
        "plt.ylabel('Loss')\n",
        "plt.ylim(0.32, 0.48)\n",
        "plt.xlim(0,3.1)\n",
        "plt.legend(loc = \"upper right\")"
      ],
      "execution_count": null,
      "outputs": [
        {
          "output_type": "execute_result",
          "data": {
            "text/plain": [
              "<matplotlib.legend.Legend at 0x7f495d7c5d50>"
            ]
          },
          "metadata": {
            "tags": []
          },
          "execution_count": 168
        },
        {
          "output_type": "display_data",
          "data": {
            "image/png": "[encoded data removed]",
            "text/plain": [
              "<Figure size 432x288 with 1 Axes>"
            ]
          },
          "metadata": {
            "tags": [],
            "needs_background": "light"
          }
        }
      ]
    },
    {
      "cell_type": "code",
      "metadata": {
        "colab": {
          "base_uri": "https://localhost:8080/",
          "height": 300
        },
        "id": "MrmI5nh_awKD",
        "outputId": "259f9f24-a8d2-43a6-9933-7d4cd99914d7"
      },
      "source": [
        "plt.plot(history.history['accuracy'], label = 'Accuracy', linestyle = '--' , color='crimson')\n",
        "plt.plot(history.history['val_accuracy'], label = 'Validation Accuracy', linestyle = 'dashdot', color='springgreen')\n",
        "plt.xlabel('Epochs')\n",
        "plt.ylabel('Accuracy')\n",
        "plt.ylim(0.8, 0.89)\n",
        "plt.xlim(0, 3)\n",
        "plt.legend(loc = \"lower right\")"
      ],
      "execution_count": null,
      "outputs": [
        {
          "output_type": "execute_result",
          "data": {
            "text/plain": [
              "<matplotlib.legend.Legend at 0x7f4b0f040550>"
            ]
          },
          "metadata": {
            "tags": []
          },
          "execution_count": 169
        },
        {
          "output_type": "display_data",
          "data": {
            "image/png": "[encoded data removed]",
            "text/plain": [
              "<Figure size 432x288 with 1 Axes>"
            ]
          },
          "metadata": {
            "tags": [],
            "needs_background": "light"
          }
        }
      ]
    },
    {
      "cell_type": "code",
      "metadata": {
        "id": "QkyksVX1kiLc"
      },
      "source": [
        "predictions = model.predict(test_set)"
      ],
      "execution_count": null,
      "outputs": []
    },
    {
      "cell_type": "code",
      "metadata": {
        "id": "aptH93h5k7XQ"
      },
      "source": [
        "%matplotlib inline"
      ],
      "execution_count": null,
      "outputs": []
    },
    {
      "cell_type": "code",
      "metadata": {
        "id": "GkMf8nuslJN2"
      },
      "source": [
        "rounded_pred = np.argmax(predictions, axis=-1)"
      ],
      "execution_count": null,
      "outputs": []
    },
    {
      "cell_type": "code",
      "metadata": {
        "id": "v7HnJfjZk2Vv"
      },
      "source": [
        "cm = confusion_matrix(y_true=test_set.classes, y_pred=rounded_pred)"
      ],
      "execution_count": null,
      "outputs": []
    },
    {
      "cell_type": "code",
      "metadata": {
        "id": "wFT3Q-UAko1J"
      },
      "source": [
        "def plot_confusion_matrix(cm, classes,\n",
        "                        normalize=False,\n",
        "                        title='Confusion matrix',\n",
        "                        cmap=plt.cm.Blues):\n",
        "    \"\"\"\n",
        "    This function prints and plots the confusion matrix.\n",
        "    Normalization can be applied by setting `normalize=True`.\n",
        "    \"\"\"\n",
        "    plt.imshow(cm, interpolation='nearest', cmap=cmap)\n",
        "    plt.title(title)\n",
        "    #plt.colorbar()\n",
        "    tick_marks = np.arange(len(classes))\n",
        "    plt.xticks(tick_marks, classes, rotation=45)\n",
        "    plt.yticks(tick_marks, classes)\n",
        "\n",
        "    if normalize:\n",
        "        cm = cm.astype('float') / cm.sum(axis=1)[:, np.newaxis]\n",
        "        print(\"Normalized confusion matrix\")\n",
        "    else:\n",
        "        print('Confusion matrix, without normalization')\n",
        "\n",
        "    print(cm)\n",
        "\n",
        "    thresh = cm.max() / 3.\n",
        "    for i, j in itertools.product(range(cm.shape[0]), range(cm.shape[1])):\n",
        "        plt.text(j, i, cm[i, j],\n",
        "            horizontalalignment=\"center\",\n",
        "            color=\"green\" if cm[i, j] > thresh else \"red\", fontdict={'fontsize':'x-large'})\n",
        "\n",
        "    plt.tight_layout()\n",
        "    plt.ylabel('True label')\n",
        "    plt.xlabel('Predicted label')"
      ],
      "execution_count": null,
      "outputs": []
    },
    {
      "cell_type": "code",
      "metadata": {
        "id": "cAA7NzOilhfo"
      },
      "source": [
        "cm_plot_labels = ['one','zero']"
      ],
      "execution_count": null,
      "outputs": []
    },
    {
      "cell_type": "code",
      "metadata": {
        "colab": {
          "base_uri": "https://localhost:8080/",
          "height": 362
        },
        "id": "J0d5iE7Blqd-",
        "outputId": "f759d1b6-6c59-490f-a80c-a513a38fce0e"
      },
      "source": [
        "plot_confusion_matrix(cm=cm, classes=cm_plot_labels, title='Confusion Matrix')"
      ],
      "execution_count": null,
      "outputs": [
        {
          "output_type": "stream",
          "text": [
            "Confusion matrix, without normalization\n",
            "[[ 9270  2548]\n",
            " [ 2960 26851]]\n"
          ],
          "name": "stdout"
        },
        {
          "output_type": "display_data",
          "data": {
            "image/png": "[encoded data removed]",
            "text/plain": [
              "<Figure size 432x288 with 1 Axes>"
            ]
          },
          "metadata": {
            "tags": [],
            "needs_background": "light"
          }
        }
      ]
    },
    {
      "cell_type": "code",
      "metadata": {
        "colab": {
          "base_uri": "https://localhost:8080/"
        },
        "id": "8fHQUq2MlvcL",
        "outputId": "54491439-8245-4ee3-ff54-261c0a151cd5"
      },
      "source": [
        "model.evaluate(test_set)"
      ],
      "execution_count": null,
      "outputs": [
        {
          "output_type": "stream",
          "text": [
            "1301/1301 [==============================] - 25s 19ms/step - loss: 0.3776 - accuracy: 0.8677\n"
          ],
          "name": "stdout"
        },
        {
          "output_type": "execute_result",
          "data": {
            "text/plain": [
              "[0.377631276845932, 0.8676884174346924]"
            ]
          },
          "metadata": {
            "tags": []
          },
          "execution_count": 145
        }
      ]
    },
    {
      "cell_type": "code",
      "metadata": {
        "id": "lBxuGY8Dl8cq"
      },
      "source": [
        ""
      ],
      "execution_count": null,
      "outputs": []
    }
  ]
}