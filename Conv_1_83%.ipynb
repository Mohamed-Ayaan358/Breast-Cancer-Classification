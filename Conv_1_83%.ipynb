{
  "nbformat": 4,
  "nbformat_minor": 0,
  "metadata": {
    "colab": {
      "name": "Conv-1.ipynb",
      "provenance": [],
      "authorship_tag": "ABX9TyPBmJL0pBA2GuGOFSkYNwGQ",
      "include_colab_link": true
    },
    "kernelspec": {
      "name": "python3",
      "display_name": "Python 3"
    },
    "language_info": {
      "name": "python"
    },
    "accelerator": "GPU"
  },
  "cells": [
    {
      "cell_type": "markdown",
      "metadata": {
        "id": "view-in-github",
        "colab_type": "text"
      },
      "source": [
        "<a href=\"https://colab.research.google.com/github/prateekrao/Breast-Cancer-Detection/blob/main/Conv_1_83%25.ipynb\" target=\"_parent\"><img src=\"https://colab.research.google.com/assets/colab-badge.svg\" alt=\"Open In Colab\"/></a>"
      ]
    },
    {
      "cell_type": "code",
      "metadata": {
        "id": "3fn0ixgq1bzX"
      },
      "source": [
        "import tensorflow as tf\n",
        "import keras\n",
        "from keras.preprocessing.image import ImageDataGenerator\n",
        "from keras.layers import Conv2D, MaxPooling2D, Dense, Dropout, Flatten\n",
        "from keras.optimizers import Adam, Adagrad, Adadelta\n",
        "import cv2\n",
        "import matplotlib.pyplot as plt\n",
        "from keras.models import Sequential\n",
        "from keras.callbacks import ModelCheckpoint"
      ],
      "execution_count": 13,
      "outputs": []
    },
    {
      "cell_type": "code",
      "metadata": {
        "colab": {
          "base_uri": "https://localhost:8080/"
        },
        "id": "iJ6AJ2qV14mx",
        "outputId": "cae76392-d5d8-4841-9a59-1fb05fdc2cc9"
      },
      "source": [
        "from google.colab import drive\n",
        "drive.mount('/content/drive')"
      ],
      "execution_count": 2,
      "outputs": [
        {
          "output_type": "stream",
          "text": [
            "Mounted at /content/drive\n"
          ],
          "name": "stdout"
        }
      ]
    },
    {
      "cell_type": "code",
      "metadata": {
        "id": "j4o4h00b1-0r"
      },
      "source": [
        "!unzip -d dataset \"/content/drive/MyDrive/master-dataset.zip\""
      ],
      "execution_count": null,
      "outputs": []
    },
    {
      "cell_type": "code",
      "metadata": {
        "id": "THBV6XRH3yKS"
      },
      "source": [
        "path = \"/content/dataset/master-dataset\""
      ],
      "execution_count": 6,
      "outputs": []
    },
    {
      "cell_type": "code",
      "metadata": {
        "id": "h_Hn4HvM2IBX"
      },
      "source": [
        "gen = ImageDataGenerator(\n",
        "    rescale = 1./255,\n",
        "    validation_split = 0.2\n",
        ")"
      ],
      "execution_count": 5,
      "outputs": []
    },
    {
      "cell_type": "code",
      "metadata": {
        "colab": {
          "base_uri": "https://localhost:8080/"
        },
        "id": "dd8tWmli3reN",
        "outputId": "4ff55454-5eef-41ea-9544-3fb88e248802"
      },
      "source": [
        "train_set = gen.flow_from_directory(\n",
        "    path,\n",
        "    target_size = (50,50),\n",
        "    color_mode = 'rgb',\n",
        "    shuffle = True,\n",
        "    class_mode = 'categorical',\n",
        "    batch_size = 32,\n",
        "    seed = 865,\n",
        "    subset = 'training'\n",
        ")"
      ],
      "execution_count": 7,
      "outputs": [
        {
          "output_type": "stream",
          "text": [
            "Found 222020 images belonging to 2 classes.\n"
          ],
          "name": "stdout"
        }
      ]
    },
    {
      "cell_type": "code",
      "metadata": {
        "colab": {
          "base_uri": "https://localhost:8080/"
        },
        "id": "VIt_dPAI4WQ3",
        "outputId": "90ade61e-1fe0-45a9-ee1b-6ac28b37077a"
      },
      "source": [
        "test_set = gen.flow_from_directory(\n",
        "    path, \n",
        "    target_size = (50,50),\n",
        "    color_mode = 'rgb',\n",
        "    shuffle = False,\n",
        "    class_mode = 'categorical',\n",
        "    batch_size= 32,\n",
        "    seed = 865,\n",
        "    subset = 'validation'\n",
        ")"
      ],
      "execution_count": 8,
      "outputs": [
        {
          "output_type": "stream",
          "text": [
            "Found 55504 images belonging to 2 classes.\n"
          ],
          "name": "stdout"
        }
      ]
    },
    {
      "cell_type": "code",
      "metadata": {
        "id": "UxIuqY1L4ipk"
      },
      "source": [
        "model = Sequential()\n",
        "\n",
        "model.add(Conv2D(32, (3,3), padding = 'same', activation='relu', input_shape = (50,50,3)))\n",
        "model.add(MaxPooling2D((2,2)))\n",
        "\n",
        "model.add(Conv2D(64, (3,3), padding = 'same', activation='relu'))\n",
        "model.add(MaxPooling2D((2,2)))\n",
        "\n",
        "model.add(Conv2D(128, (3,3), padding='same', activation='relu'))\n",
        "model.add(MaxPooling2D((2,2)))\n",
        "\n",
        "model.add(Flatten())\n",
        "\n",
        "model.add(Dropout(0.5))\n",
        "model.add(Dense(512, activation='relu'))\n",
        "model.add(Dense(2, activation='softmax'))"
      ],
      "execution_count": 10,
      "outputs": []
    },
    {
      "cell_type": "code",
      "metadata": {
        "colab": {
          "base_uri": "https://localhost:8080/",
          "height": 1000
        },
        "id": "S95Dv2tQ7y7J",
        "outputId": "20cdfc20-8cf3-4be5-90c7-de5705cf8924"
      },
      "source": [
        "tf.keras.utils.plot_model(\n",
        "    model,\n",
        "    to_file=\"model.png\",\n",
        "    show_shapes=False,\n",
        "    show_dtype=False,\n",
        "    show_layer_names=True,\n",
        "    rankdir=\"TB\",\n",
        "    expand_nested=False,\n",
        "    dpi=96,\n",
        ")"
      ],
      "execution_count": 16,
      "outputs": [
        {
          "output_type": "execute_result",
          "data": {
            "image/png": "[encoded data removed]",
            "text/plain": [
              "<IPython.core.display.Image object>"
            ]
          },
          "metadata": {
            "tags": []
          },
          "execution_count": 16
        }
      ]
    },
    {
      "cell_type": "code",
      "metadata": {
        "colab": {
          "base_uri": "https://localhost:8080/"
        },
        "id": "dZWwDUgQ8FgH",
        "outputId": "56be8f64-7d0d-4bf4-9c08-7ba0ecfd55fd"
      },
      "source": [
        "model.summary()"
      ],
      "execution_count": 17,
      "outputs": [
        {
          "output_type": "stream",
          "text": [
            "Model: \"sequential\"\n",
            "_________________________________________________________________\n",
            "Layer (type)                 Output Shape              Param #   \n",
            "=================================================================\n",
            "conv2d (Conv2D)              (None, 50, 50, 32)        896       \n",
            "_________________________________________________________________\n",
            "max_pooling2d (MaxPooling2D) (None, 25, 25, 32)        0         \n",
            "_________________________________________________________________\n",
            "conv2d_1 (Conv2D)            (None, 25, 25, 64)        18496     \n",
            "_________________________________________________________________\n",
            "max_pooling2d_1 (MaxPooling2 (None, 12, 12, 64)        0         \n",
            "_________________________________________________________________\n",
            "conv2d_2 (Conv2D)            (None, 12, 12, 128)       73856     \n",
            "_________________________________________________________________\n",
            "max_pooling2d_2 (MaxPooling2 (None, 6, 6, 128)         0         \n",
            "_________________________________________________________________\n",
            "flatten (Flatten)            (None, 4608)              0         \n",
            "_________________________________________________________________\n",
            "dropout (Dropout)            (None, 4608)              0         \n",
            "_________________________________________________________________\n",
            "dense (Dense)                (None, 512)               2359808   \n",
            "_________________________________________________________________\n",
            "dense_1 (Dense)              (None, 2)                 1026      \n",
            "=================================================================\n",
            "Total params: 2,454,082\n",
            "Trainable params: 2,454,082\n",
            "Non-trainable params: 0\n",
            "_________________________________________________________________\n"
          ],
          "name": "stdout"
        }
      ]
    },
    {
      "cell_type": "code",
      "metadata": {
        "colab": {
          "base_uri": "https://localhost:8080/"
        },
        "id": "RyKabkPd6Ggi",
        "outputId": "55bd4878-5564-4ac9-9d30-778d8eccb9ca"
      },
      "source": [
        "fpath = \"/content/conv1.h5\"\n",
        "\n",
        "checkpoint = ModelCheckpoint(fpath, monitor = 'val_loss', save_best_only = True, mode = 'min')\n",
        "checkpoint"
      ],
      "execution_count": 14,
      "outputs": [
        {
          "output_type": "execute_result",
          "data": {
            "text/plain": [
              "<tensorflow.python.keras.callbacks.ModelCheckpoint at 0x7f4f5bd28110>"
            ]
          },
          "metadata": {
            "tags": []
          },
          "execution_count": 14
        }
      ]
    },
    {
      "cell_type": "code",
      "metadata": {
        "id": "d7C1z4oN7A6-"
      },
      "source": [
        "model.compile(optimizer='adam', loss = 'categorical_crossentropy', metrics=['accuracy'])"
      ],
      "execution_count": 15,
      "outputs": []
    },
    {
      "cell_type": "code",
      "metadata": {
        "colab": {
          "base_uri": "https://localhost:8080/"
        },
        "id": "g1Wsjbvi7VLa",
        "outputId": "f2f51d2e-abe3-4a50-8cde-479222bcdbd3"
      },
      "source": [
        "model.fit(train_set, validation_data = test_set, callbacks = checkpoint, batch_size = 32, shuffle = True,  epochs = 5)"
      ],
      "execution_count": 20,
      "outputs": [
        {
          "output_type": "stream",
          "text": [
            "Epoch 1/5\n",
            "6939/6939 [==============================] - 175s 25ms/step - loss: 0.3390 - accuracy: 0.8569 - val_loss: 0.4887 - val_accuracy: 0.7760\n",
            "Epoch 2/5\n",
            "6939/6939 [==============================] - 119s 17ms/step - loss: 0.3183 - accuracy: 0.8665 - val_loss: 0.4146 - val_accuracy: 0.8157\n",
            "Epoch 3/5\n",
            "6939/6939 [==============================] - 116s 17ms/step - loss: 0.3098 - accuracy: 0.8712 - val_loss: 0.4234 - val_accuracy: 0.8151\n",
            "Epoch 4/5\n",
            "6939/6939 [==============================] - 116s 17ms/step - loss: 0.3035 - accuracy: 0.8730 - val_loss: 0.4328 - val_accuracy: 0.8079\n",
            "Epoch 5/5\n",
            "6939/6939 [==============================] - 116s 17ms/step - loss: 0.2997 - accuracy: 0.8748 - val_loss: 0.3784 - val_accuracy: 0.8370\n"
          ],
          "name": "stdout"
        },
        {
          "output_type": "execute_result",
          "data": {
            "text/plain": [
              "<tensorflow.python.keras.callbacks.History at 0x7f4f59260810>"
            ]
          },
          "metadata": {
            "tags": []
          },
          "execution_count": 20
        }
      ]
    },
    {
      "cell_type": "code",
      "metadata": {
        "id": "JMXoKZdo_-0Z"
      },
      "source": [
        "model.save_weights(\"/content/val83%.h5\")"
      ],
      "execution_count": 21,
      "outputs": []
    },
    {
      "cell_type": "code",
      "metadata": {
        "id": "RF_KDb5oAz75"
      },
      "source": [
        ""
      ],
      "execution_count": null,
      "outputs": []
    }
  ]
}